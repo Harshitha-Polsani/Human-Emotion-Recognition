{
 "cells": [
  {
   "cell_type": "code",
   "execution_count": 17,
   "metadata": {
    "_cell_guid": "b1076dfc-b9ad-4769-8c92-a6c4dae69d19",
    "_uuid": "8f2839f25d086af736a60e9eeb907d3b93b6e0e5",
    "execution": {
     "iopub.execute_input": "2023-11-01T08:19:57.941216Z",
     "iopub.status.busy": "2023-11-01T08:19:57.940137Z",
     "iopub.status.idle": "2023-11-01T08:20:10.376737Z",
     "shell.execute_reply": "2023-11-01T08:20:10.375899Z",
     "shell.execute_reply.started": "2023-11-01T08:19:57.941174Z"
    }
   },
   "outputs": [
    {
     "name": "stdout",
     "output_type": "stream",
     "text": [
      "Found 31919 images belonging to 8 classes.\n",
      "Found 5634 images belonging to 8 classes.\n",
      "Found 4000 images belonging to 8 classes.\n"
     ]
    }
   ],
   "source": [
    "from tensorflow.keras.preprocessing.image import ImageDataGenerator\n",
    "\n",
    "# Here, we are normalizing the pixel values to the range [0, 1]\n",
    "datagen = ImageDataGenerator(rescale=1.0/255.0)\n",
    "\n",
    "# Set the batch size for the data generator\n",
    "batch_size = 32\n",
    "\n",
    "# Define the directories for the train, validation, and test sets\n",
    "train_directory = '/kaggle/input/affectnet-pca-train-test/AffectNet_train_test_224/train/train'\n",
    "validation_directory = '/kaggle/input/affectnet-pca-train-test/AffectNet_train_test_224/train/validation'\n",
    "test_directory = '/kaggle/input/affectnet-pca-train-test/AffectNet_train_test_224/test'\n",
    "\n",
    "# Specify the class names explicitly as strings\n",
    "class_names = ['anger','contempt','disgust','fear','happy','neutral','sad','surprise']\n",
    "\n",
    "# Create the image generators for the train, validation, and test sets\n",
    "train_generator = datagen.flow_from_directory(\n",
    "    train_directory,\n",
    "    target_size=(224, 224),\n",
    "    batch_size=batch_size,\n",
    "    class_mode='categorical',\n",
    "    classes=class_names,\n",
    "    shuffle=True\n",
    ")\n",
    "\n",
    "validation_generator = datagen.flow_from_directory(\n",
    "    validation_directory,\n",
    "    target_size=(224, 224),\n",
    "    batch_size=batch_size,\n",
    "    class_mode='categorical',\n",
    "    classes=class_names,\n",
    "    shuffle=True\n",
    ")\n",
    "\n",
    "test_generator = datagen.flow_from_directory(\n",
    "    test_directory,\n",
    "    target_size=(224, 224),\n",
    "    batch_size=batch_size,\n",
    "    class_mode='categorical',\n",
    "    classes=class_names,\n",
    "    shuffle=False\n",
    ")"
   ]
  },
  {
   "cell_type": "markdown",
   "metadata": {},
   "source": [
    "# Vision Transformers"
   ]
  },
  {
   "cell_type": "code",
   "execution_count": 2,
   "metadata": {
    "execution": {
     "iopub.execute_input": "2023-11-01T05:23:20.994643Z",
     "iopub.status.busy": "2023-11-01T05:23:20.993964Z",
     "iopub.status.idle": "2023-11-01T05:23:33.606001Z",
     "shell.execute_reply": "2023-11-01T05:23:33.604889Z",
     "shell.execute_reply.started": "2023-11-01T05:23:20.994608Z"
    }
   },
   "outputs": [
    {
     "name": "stdout",
     "output_type": "stream",
     "text": [
      "Collecting vit_keras\n",
      "  Downloading vit_keras-0.1.2-py3-none-any.whl (24 kB)\n",
      "Requirement already satisfied: scipy in /opt/conda/lib/python3.10/site-packages (from vit_keras) (1.11.2)\n",
      "Collecting validators (from vit_keras)\n",
      "  Downloading validators-0.22.0-py3-none-any.whl (26 kB)\n",
      "Requirement already satisfied: numpy<1.28.0,>=1.21.6 in /opt/conda/lib/python3.10/site-packages (from scipy->vit_keras) (1.23.5)\n",
      "Installing collected packages: validators, vit_keras\n",
      "Successfully installed validators-0.22.0 vit_keras-0.1.2\n"
     ]
    }
   ],
   "source": [
    "!pip install vit_keras"
   ]
  },
  {
   "cell_type": "code",
   "execution_count": 3,
   "metadata": {
    "execution": {
     "iopub.execute_input": "2023-11-01T05:23:33.608485Z",
     "iopub.status.busy": "2023-11-01T05:23:33.608157Z",
     "iopub.status.idle": "2023-11-01T05:23:33.930269Z",
     "shell.execute_reply": "2023-11-01T05:23:33.929435Z",
     "shell.execute_reply.started": "2023-11-01T05:23:33.608458Z"
    }
   },
   "outputs": [
    {
     "name": "stderr",
     "output_type": "stream",
     "text": [
      "/opt/conda/lib/python3.10/site-packages/tensorflow_addons/utils/tfa_eol_msg.py:23: UserWarning: \n",
      "\n",
      "TensorFlow Addons (TFA) has ended development and introduction of new features.\n",
      "TFA has entered a minimal maintenance and release mode until a planned end of life in May 2024.\n",
      "Please modify downstream libraries to take dependencies from other repositories in our TensorFlow community (e.g. Keras, Keras-CV, and Keras-NLP). \n",
      "\n",
      "For more information see: https://github.com/tensorflow/addons/issues/2807 \n",
      "\n",
      "  warnings.warn(\n"
     ]
    }
   ],
   "source": [
    "from vit_keras import vit"
   ]
  },
  {
   "cell_type": "code",
   "execution_count": 4,
   "metadata": {
    "execution": {
     "iopub.execute_input": "2023-11-01T05:23:33.932138Z",
     "iopub.status.busy": "2023-11-01T05:23:33.931746Z",
     "iopub.status.idle": "2023-11-01T05:23:33.936956Z",
     "shell.execute_reply": "2023-11-01T05:23:33.935785Z",
     "shell.execute_reply.started": "2023-11-01T05:23:33.932104Z"
    }
   },
   "outputs": [],
   "source": [
    "import tensorflow as tf\n",
    "import tensorflow_addons as tfa\n",
    "from vit_keras import vit"
   ]
  },
  {
   "cell_type": "code",
   "execution_count": 5,
   "metadata": {
    "execution": {
     "iopub.execute_input": "2023-11-01T05:23:41.170443Z",
     "iopub.status.busy": "2023-11-01T05:23:41.169963Z",
     "iopub.status.idle": "2023-11-01T06:29:13.487222Z",
     "shell.execute_reply": "2023-11-01T06:29:13.486250Z",
     "shell.execute_reply.started": "2023-11-01T05:23:41.170408Z"
    }
   },
   "outputs": [
    {
     "name": "stdout",
     "output_type": "stream",
     "text": [
      "Downloading data from https://github.com/faustomorales/vit-keras/releases/download/dl/ViT-B_32_imagenet21k+imagenet2012.npz\n",
      "353253686/353253686 [==============================] - 1s 0us/step\n"
     ]
    },
    {
     "name": "stderr",
     "output_type": "stream",
     "text": [
      "/opt/conda/lib/python3.10/site-packages/vit_keras/utils.py:81: UserWarning: Resizing position embeddings from 12, 12 to 7, 7\n",
      "  warnings.warn(\n"
     ]
    },
    {
     "name": "stdout",
     "output_type": "stream",
     "text": [
      "Epoch 1/30\n",
      "997/997 [==============================] - ETA: 0s - loss: 1.9383 - accuracy: 0.3339\n",
      "Epoch 1: val_accuracy improved from -inf to 0.42312, saving model to ./model\n",
      "997/997 [==============================] - 343s 311ms/step - loss: 1.9383 - accuracy: 0.3339 - val_loss: 1.8124 - val_accuracy: 0.4231 - lr: 1.0000e-04\n",
      "Epoch 2/30\n",
      "997/997 [==============================] - ETA: 0s - loss: 1.6981 - accuracy: 0.4693\n",
      "Epoch 2: val_accuracy improved from 0.42312 to 0.44283, saving model to ./model\n",
      "997/997 [==============================] - 300s 301ms/step - loss: 1.6981 - accuracy: 0.4693 - val_loss: 1.8051 - val_accuracy: 0.4428 - lr: 1.0000e-04\n",
      "Epoch 3/30\n",
      "997/997 [==============================] - ETA: 0s - loss: 1.6117 - accuracy: 0.5269\n",
      "Epoch 3: val_accuracy improved from 0.44283 to 0.50160, saving model to ./model\n",
      "997/997 [==============================] - 300s 301ms/step - loss: 1.6117 - accuracy: 0.5269 - val_loss: 1.6467 - val_accuracy: 0.5016 - lr: 1.0000e-04\n",
      "Epoch 4/30\n",
      "997/997 [==============================] - ETA: 0s - loss: 1.5462 - accuracy: 0.5684\n",
      "Epoch 4: val_accuracy improved from 0.50160 to 0.51261, saving model to ./model\n",
      "997/997 [==============================] - 301s 302ms/step - loss: 1.5462 - accuracy: 0.5684 - val_loss: 1.6407 - val_accuracy: 0.5126 - lr: 1.0000e-04\n",
      "Epoch 5/30\n",
      "997/997 [==============================] - ETA: 0s - loss: 1.4640 - accuracy: 0.6199\n",
      "Epoch 5: val_accuracy did not improve from 0.51261\n",
      "997/997 [==============================] - 255s 255ms/step - loss: 1.4640 - accuracy: 0.6199 - val_loss: 1.7363 - val_accuracy: 0.4636 - lr: 1.0000e-04\n",
      "Epoch 6/30\n",
      "997/997 [==============================] - ETA: 0s - loss: 1.3832 - accuracy: 0.6702\n",
      "Epoch 6: val_accuracy improved from 0.51261 to 0.52894, saving model to ./model\n",
      "997/997 [==============================] - 300s 301ms/step - loss: 1.3832 - accuracy: 0.6702 - val_loss: 1.6505 - val_accuracy: 0.5289 - lr: 1.0000e-04\n",
      "Epoch 7/30\n",
      "997/997 [==============================] - ETA: 0s - loss: 1.2980 - accuracy: 0.7254\n",
      "Epoch 7: val_accuracy did not improve from 0.52894\n",
      "997/997 [==============================] - 254s 255ms/step - loss: 1.2980 - accuracy: 0.7254 - val_loss: 1.6945 - val_accuracy: 0.5243 - lr: 1.0000e-04\n",
      "Epoch 8/30\n",
      "997/997 [==============================] - ETA: 0s - loss: 1.2113 - accuracy: 0.7803\n",
      "Epoch 8: ReduceLROnPlateau reducing learning rate to 1.9999999494757503e-05.\n",
      "\n",
      "Epoch 8: val_accuracy did not improve from 0.52894\n",
      "997/997 [==============================] - 254s 255ms/step - loss: 1.2113 - accuracy: 0.7803 - val_loss: 1.7221 - val_accuracy: 0.5240 - lr: 1.0000e-04\n",
      "Epoch 9/30\n",
      "997/997 [==============================] - ETA: 0s - loss: 1.0421 - accuracy: 0.8857\n",
      "Epoch 9: val_accuracy improved from 0.52894 to 0.53374, saving model to ./model\n",
      "997/997 [==============================] - 301s 302ms/step - loss: 1.0421 - accuracy: 0.8857 - val_loss: 1.7347 - val_accuracy: 0.5337 - lr: 2.0000e-05\n",
      "Epoch 10/30\n",
      "997/997 [==============================] - ETA: 0s - loss: 0.9841 - accuracy: 0.9194\n",
      "Epoch 10: val_accuracy did not improve from 0.53374\n",
      "997/997 [==============================] - 256s 256ms/step - loss: 0.9841 - accuracy: 0.9194 - val_loss: 1.7802 - val_accuracy: 0.5297 - lr: 2.0000e-05\n",
      "Epoch 11/30\n",
      "997/997 [==============================] - ETA: 0s - loss: 0.9549 - accuracy: 0.9353\n",
      "Epoch 11: ReduceLROnPlateau reducing learning rate to 3.999999898951501e-06.\n",
      "\n",
      "Epoch 11: val_accuracy did not improve from 0.53374\n",
      "997/997 [==============================] - 255s 256ms/step - loss: 0.9549 - accuracy: 0.9353 - val_loss: 1.8146 - val_accuracy: 0.5259 - lr: 2.0000e-05\n",
      "Epoch 12/30\n",
      "997/997 [==============================] - ETA: 0s - loss: 0.9193 - accuracy: 0.9563\n",
      "Epoch 12: val_accuracy did not improve from 0.53374\n",
      "997/997 [==============================] - 255s 256ms/step - loss: 0.9193 - accuracy: 0.9563 - val_loss: 1.8233 - val_accuracy: 0.5286 - lr: 4.0000e-06\n",
      "Epoch 13/30\n",
      "997/997 [==============================] - ETA: 0s - loss: 0.9106 - accuracy: 0.9596\n",
      "Epoch 13: ReduceLROnPlateau reducing learning rate to 1e-06.\n",
      "\n",
      "Epoch 13: val_accuracy did not improve from 0.53374\n",
      "997/997 [==============================] - 254s 255ms/step - loss: 0.9106 - accuracy: 0.9596 - val_loss: 1.8325 - val_accuracy: 0.5275 - lr: 4.0000e-06\n",
      "Epoch 14/30\n",
      "997/997 [==============================] - ETA: 0s - loss: 0.9039 - accuracy: 0.9637Restoring model weights from the end of the best epoch: 9.\n",
      "\n",
      "Epoch 14: val_accuracy did not improve from 0.53374\n",
      "997/997 [==============================] - 255s 256ms/step - loss: 0.9039 - accuracy: 0.9637 - val_loss: 1.8346 - val_accuracy: 0.5298 - lr: 1.0000e-06\n",
      "Epoch 14: early stopping\n",
      "125/125 [==============================] - 39s 310ms/step - loss: 1.7743 - accuracy: 0.5247\n",
      "Test Loss: 1.774256706237793\n",
      "Test Accuracy: 0.5247499942779541\n"
     ]
    }
   ],
   "source": [
    "from vit_keras import vit\n",
    "from tensorflow.keras.callbacks import ModelCheckpoint\n",
    "# Define the image size\n",
    "image_size = 224\n",
    "\n",
    "# Define the number of classes\n",
    "num_classes = 8\n",
    "\n",
    "# Build the Vision Transformer model\n",
    "vit_model = vit.vit_b32(\n",
    "    image_size=image_size,\n",
    "    activation='sigmoid',\n",
    "    pretrained=True,\n",
    "    pretrained_top=False,\n",
    "    include_top=False,\n",
    "    classes=len(class_names)  # Use len(class_names) for the number of classes\n",
    ")\n",
    "\n",
    "model = tf.keras.Sequential([\n",
    "    tf.keras.layers.Input(shape=(image_size, image_size, 3)),\n",
    "    vit_model,\n",
    "    tf.keras.layers.Flatten(),\n",
    "    tf.keras.layers.BatchNormalization(),\n",
    "    tf.keras.layers.Dense(11, activation=tfa.activations.gelu),\n",
    "    tf.keras.layers.BatchNormalization(),\n",
    "    tf.keras.layers.Dense(len(class_names), activation='softmax')\n",
    "],\n",
    "    name='vision_transformer'\n",
    ")\n",
    "\n",
    "# Compile the model\n",
    "learning_rate = 1e-4\n",
    "optimizer = tfa.optimizers.RectifiedAdam(learning_rate=learning_rate)\n",
    "\n",
    "model.compile(\n",
    "    optimizer=optimizer,\n",
    "    loss=tf.keras.losses.CategoricalCrossentropy(label_smoothing=0.2),\n",
    "    metrics=['accuracy']\n",
    ")\n",
    "\n",
    "\n",
    "# Define callbacks\n",
    "reduce_lr = tf.keras.callbacks.ReduceLROnPlateau(\n",
    "    monitor='val_accuracy',\n",
    "    factor=0.2,\n",
    "    patience=2,\n",
    "    verbose=1,\n",
    "    min_delta=1e-4,\n",
    "    min_lr=1e-6,\n",
    "    mode='max'\n",
    ")\n",
    "\n",
    "earlystopping = tf.keras.callbacks.EarlyStopping(\n",
    "    monitor='val_accuracy',\n",
    "    min_delta=1e-4,\n",
    "    patience=5,\n",
    "    mode='max',\n",
    "    restore_best_weights=True,\n",
    "    verbose=1\n",
    ")\n",
    "\n",
    "checkpointer = tf.keras.callbacks.ModelCheckpoint(\n",
    "    filepath='./model',\n",
    "    monitor='val_accuracy',\n",
    "    verbose=1,\n",
    "    save_best_only=True,\n",
    "    mode='max'\n",
    ")\n",
    "\n",
    "callbacks = [earlystopping, reduce_lr, checkpointer]\n",
    "\n",
    "# Train the model\n",
    "step_size_train = train_generator.n // train_generator.batch_size\n",
    "step_size_valid = validation_generator.n // validation_generator.batch_size\n",
    "\n",
    "# Define a callback to save the best model based on validation accuracy\n",
    "vit_checkpoint = ModelCheckpoint(\"best_model_vit.h5\", monitor=\"val_accuracy\", mode=\"max\", save_best_only=True)\n",
    "\n",
    "\n",
    "history = model.fit(\n",
    "    train_generator,\n",
    "    steps_per_epoch=step_size_train,\n",
    "    validation_data=validation_generator,\n",
    "    validation_steps=step_size_valid,\n",
    "    epochs=30,\n",
    "    callbacks=callbacks\n",
    ")\n",
    "\n",
    "# Load the best saved ViT model based on validation accuracy\n",
    "#model.load_weights(\"best_model_vit.h5\")\n",
    "\n",
    "# Evaluate the model on the test set\n",
    "test_loss, test_accuracy = model.evaluate(test_generator)\n",
    "print(\"Test Loss:\", test_loss)\n",
    "print(\"Test Accuracy:\", test_accuracy)"
   ]
  },
  {
   "cell_type": "code",
   "execution_count": 6,
   "metadata": {
    "execution": {
     "iopub.execute_input": "2023-11-01T06:29:13.489269Z",
     "iopub.status.busy": "2023-11-01T06:29:13.488916Z",
     "iopub.status.idle": "2023-11-01T06:29:15.178804Z",
     "shell.execute_reply": "2023-11-01T06:29:15.177938Z",
     "shell.execute_reply.started": "2023-11-01T06:29:13.489241Z"
    }
   },
   "outputs": [],
   "source": [
    "# Save the best model as an .h5 file\n",
    "model.save(\"vision_transformer_model.h5\")  # Save the model as an .h5 file# Save the best model as an .h5 file"
   ]
  },
  {
   "cell_type": "code",
   "execution_count": 7,
   "metadata": {
    "execution": {
     "iopub.execute_input": "2023-11-01T06:29:15.181025Z",
     "iopub.status.busy": "2023-11-01T06:29:15.180730Z",
     "iopub.status.idle": "2023-11-01T06:29:29.622978Z",
     "shell.execute_reply": "2023-11-01T06:29:29.621962Z",
     "shell.execute_reply.started": "2023-11-01T06:29:15.180999Z"
    }
   },
   "outputs": [
    {
     "name": "stdout",
     "output_type": "stream",
     "text": [
      "125/125 [==============================] - 14s 88ms/step\n",
      "Confusion Matrix:\n",
      "[[241  18  38  32  11  91  49  20]\n",
      " [ 33 198  19   4 120 100  13  13]\n",
      " [ 79  20 212  27  33  60  47  22]\n",
      " [ 19   7  22 272  14  45  39  82]\n",
      " [  9  61   7   4 379  17   5  18]\n",
      " [ 41  43  15  13  27 291  38  32]\n",
      " [ 45  14  25  34  14 102 251  15]\n",
      " [ 11   9  11  80  38  74  22 255]]\n"
     ]
    }
   ],
   "source": [
    "from sklearn.metrics import confusion_matrix\n",
    "import numpy as np\n",
    "\n",
    "# Make predictions on the test set\n",
    "predictions = model.predict(test_generator)\n",
    "predicted_classes = np.argmax(predictions, axis=1)\n",
    "\n",
    "# Get the true labels of the test set\n",
    "true_labels = test_generator.classes\n",
    "\n",
    "# Calculate the confusion matrix\n",
    "cm = confusion_matrix(true_labels, predicted_classes)\n",
    "\n",
    "# Print the confusion matrix\n",
    "print(\"Confusion Matrix:\")\n",
    "print(cm)"
   ]
  },
  {
   "cell_type": "code",
   "execution_count": 8,
   "metadata": {
    "execution": {
     "iopub.execute_input": "2023-11-01T06:29:29.625398Z",
     "iopub.status.busy": "2023-11-01T06:29:29.624995Z",
     "iopub.status.idle": "2023-11-01T06:29:41.414172Z",
     "shell.execute_reply": "2023-11-01T06:29:41.413201Z",
     "shell.execute_reply.started": "2023-11-01T06:29:29.625351Z"
    }
   },
   "outputs": [
    {
     "name": "stdout",
     "output_type": "stream",
     "text": [
      "125/125 [==============================] - 12s 92ms/step\n",
      "              precision    recall  f1-score   support\n",
      "\n",
      "       anger       0.50      0.48      0.49       500\n",
      "    contempt       0.54      0.40      0.46       500\n",
      "     disgust       0.61      0.42      0.50       500\n",
      "        fear       0.58      0.54      0.56       500\n",
      "       happy       0.60      0.76      0.67       500\n",
      "     neutral       0.37      0.58      0.45       500\n",
      "         sad       0.54      0.50      0.52       500\n",
      "    surprise       0.56      0.51      0.53       500\n",
      "\n",
      "    accuracy                           0.52      4000\n",
      "   macro avg       0.54      0.52      0.52      4000\n",
      "weighted avg       0.54      0.52      0.52      4000\n",
      "\n"
     ]
    }
   ],
   "source": [
    "import numpy as np\n",
    "from sklearn.metrics import classification_report\n",
    "\n",
    "# Get the predicted probabilities for the test set\n",
    "y_pred_probabilities = model.predict(test_generator)\n",
    "\n",
    "# Convert the predicted probabilities to class labels\n",
    "y_pred_labels = np.argmax(y_pred_probabilities, axis=1)\n",
    "\n",
    "# Get the true class labels for the test set\n",
    "y_true_labels = test_generator.classes\n",
    "\n",
    "# Get the class names\n",
    "class_names = list(test_generator.class_indices.keys())\n",
    "\n",
    "# Print the classification report\n",
    "print(classification_report(y_true_labels, y_pred_labels, target_names=class_names))\n"
   ]
  },
  {
   "cell_type": "code",
   "execution_count": 10,
   "metadata": {
    "execution": {
     "iopub.execute_input": "2023-11-01T06:31:35.347837Z",
     "iopub.status.busy": "2023-11-01T06:31:35.347090Z",
     "iopub.status.idle": "2023-11-01T06:31:36.050929Z",
     "shell.execute_reply": "2023-11-01T06:31:36.049940Z",
     "shell.execute_reply.started": "2023-11-01T06:31:35.347802Z"
    }
   },
   "outputs": [
    {
     "data": {
      "image/png": "[encoded data removed]",
      "text/plain": [
       "<Figure size 1200x600 with 2 Axes>"
      ]
     },
     "metadata": {},
     "output_type": "display_data"
    }
   ],
   "source": [
    "import matplotlib.pyplot as plt\n",
    "\n",
    "# Access the training history\n",
    "training_accuracy = history.history['accuracy']\n",
    "validation_accuracy = history.history['val_accuracy']\n",
    "training_loss = history.history['loss']\n",
    "validation_loss = history.history['val_loss']\n",
    "\n",
    "# Create subplots for accuracy and loss\n",
    "plt.figure(figsize=(12, 6))\n",
    "\n",
    "# Plot training and validation accuracy\n",
    "plt.subplot(1, 2, 1)\n",
    "plt.plot(training_accuracy, label='Training Accuracy')\n",
    "plt.plot(validation_accuracy, label='Validation Accuracy')\n",
    "plt.xlabel('Epoch')\n",
    "plt.ylabel('Accuracy')\n",
    "plt.legend()\n",
    "plt.title('Training and Validation Accuracy')\n",
    "\n",
    "# Plot training and validation loss\n",
    "plt.subplot(1, 2, 2)\n",
    "plt.plot(training_loss, label='Training Loss')\n",
    "plt.plot(validation_loss, label='Validation Loss')\n",
    "plt.xlabel('Epoch')\n",
    "plt.ylabel('Loss')\n",
    "plt.legend()\n",
    "plt.title('Training and Validation Loss')\n",
    "\n",
    "plt.tight_layout()\n",
    "plt.show()\n"
   ]
  },
  {
   "cell_type": "code",
   "execution_count": null,
   "metadata": {},
   "outputs": [],
   "source": []
  },
  {
   "cell_type": "markdown",
   "metadata": {},
   "source": [
    "# ResNet50"
   ]
  },
  {
   "cell_type": "code",
   "execution_count": 20,
   "metadata": {
    "execution": {
     "iopub.execute_input": "2023-11-01T08:23:26.747452Z",
     "iopub.status.busy": "2023-11-01T08:23:26.747030Z",
     "iopub.status.idle": "2023-11-01T10:30:28.786885Z",
     "shell.execute_reply": "2023-11-01T10:30:28.785880Z",
     "shell.execute_reply.started": "2023-11-01T08:23:26.747418Z"
    }
   },
   "outputs": [
    {
     "name": "stdout",
     "output_type": "stream",
     "text": [
      "Model: \"sequential_22\"\n",
      "_________________________________________________________________\n",
      " Layer (type)                Output Shape              Param #   \n",
      "=================================================================\n",
      " resnet50 (Functional)       (None, 7, 7, 2048)        23587712  \n",
      "                                                                 \n",
      " flatten_2 (Flatten)         (None, 100352)            0         \n",
      "                                                                 \n",
      " dense_32 (Dense)            (None, 128)               12845184  \n",
      "                                                                 \n",
      " dropout_16 (Dropout)        (None, 128)               0         \n",
      "                                                                 \n",
      " dense_33 (Dense)            (None, 8)                 1032      \n",
      "                                                                 \n",
      "=================================================================\n",
      "Total params: 36,433,928\n",
      "Trainable params: 36,380,808\n",
      "Non-trainable params: 53,120\n",
      "_________________________________________________________________\n",
      "Epoch 1/40\n",
      "998/998 [==============================] - 232s 194ms/step - loss: 2.0886 - accuracy: 0.2137 - val_loss: 2.0428 - val_accuracy: 0.2013\n",
      "Epoch 2/40\n",
      "998/998 [==============================] - 190s 190ms/step - loss: 1.8069 - accuracy: 0.3140 - val_loss: 1.6186 - val_accuracy: 0.3750\n",
      "Epoch 3/40\n",
      "998/998 [==============================] - 188s 189ms/step - loss: 1.6615 - accuracy: 0.3616 - val_loss: 2.3283 - val_accuracy: 0.2535\n",
      "Epoch 4/40\n",
      "998/998 [==============================] - 190s 190ms/step - loss: 1.5602 - accuracy: 0.4019 - val_loss: 1.5128 - val_accuracy: 0.4178\n",
      "Epoch 5/40\n",
      "998/998 [==============================] - 188s 189ms/step - loss: 1.5157 - accuracy: 0.4259 - val_loss: 1.5497 - val_accuracy: 0.4043\n",
      "Epoch 6/40\n",
      "998/998 [==============================] - 188s 189ms/step - loss: 1.5428 - accuracy: 0.4143 - val_loss: 1.7239 - val_accuracy: 0.3461\n",
      "Epoch 7/40\n",
      "998/998 [==============================] - 189s 189ms/step - loss: 1.5254 - accuracy: 0.4239 - val_loss: 1.8213 - val_accuracy: 0.2700\n",
      "Epoch 8/40\n",
      "998/998 [==============================] - 189s 189ms/step - loss: 1.4526 - accuracy: 0.4462 - val_loss: 1.5430 - val_accuracy: 0.4173\n",
      "Epoch 9/40\n",
      "998/998 [==============================] - 188s 189ms/step - loss: 1.4204 - accuracy: 0.4600 - val_loss: 2.0096 - val_accuracy: 0.1823\n",
      "Epoch 10/40\n",
      "998/998 [==============================] - 190s 190ms/step - loss: 1.4676 - accuracy: 0.4462 - val_loss: 1.4567 - val_accuracy: 0.4400\n",
      "Epoch 11/40\n",
      "998/998 [==============================] - 190s 191ms/step - loss: 1.3787 - accuracy: 0.4770 - val_loss: 1.4105 - val_accuracy: 0.4631\n",
      "Epoch 12/40\n",
      "998/998 [==============================] - 188s 189ms/step - loss: 1.4652 - accuracy: 0.4452 - val_loss: 19.8062 - val_accuracy: 0.3619\n",
      "Epoch 13/40\n",
      "998/998 [==============================] - 189s 189ms/step - loss: 1.3715 - accuracy: 0.4814 - val_loss: 1.4685 - val_accuracy: 0.4485\n",
      "Epoch 14/40\n",
      "998/998 [==============================] - 189s 189ms/step - loss: 1.3692 - accuracy: 0.4851 - val_loss: 1.4783 - val_accuracy: 0.4437\n",
      "Epoch 15/40\n",
      "998/998 [==============================] - 191s 191ms/step - loss: 1.3855 - accuracy: 0.4806 - val_loss: 1.3925 - val_accuracy: 0.4732\n",
      "Epoch 16/40\n",
      "998/998 [==============================] - 188s 189ms/step - loss: 1.3176 - accuracy: 0.5079 - val_loss: 1.4687 - val_accuracy: 0.4533\n",
      "Epoch 17/40\n",
      "998/998 [==============================] - 188s 189ms/step - loss: 1.2829 - accuracy: 0.5171 - val_loss: 1.6127 - val_accuracy: 0.3724\n",
      "Epoch 18/40\n",
      "998/998 [==============================] - 189s 189ms/step - loss: 1.3105 - accuracy: 0.5048 - val_loss: 1.4706 - val_accuracy: 0.4491\n",
      "Epoch 19/40\n",
      "998/998 [==============================] - 189s 189ms/step - loss: 1.2662 - accuracy: 0.5252 - val_loss: 1.4852 - val_accuracy: 0.4343\n",
      "Epoch 20/40\n",
      "998/998 [==============================] - 190s 191ms/step - loss: 1.3416 - accuracy: 0.4933 - val_loss: 1.5934 - val_accuracy: 0.4031\n",
      "Epoch 21/40\n",
      "998/998 [==============================] - 190s 190ms/step - loss: 1.4048 - accuracy: 0.4775 - val_loss: 1.4729 - val_accuracy: 0.4455\n",
      "Epoch 22/40\n",
      "998/998 [==============================] - 191s 191ms/step - loss: 1.2409 - accuracy: 0.5303 - val_loss: 1.3968 - val_accuracy: 0.4755\n",
      "Epoch 23/40\n",
      "998/998 [==============================] - 190s 190ms/step - loss: 1.2593 - accuracy: 0.5261 - val_loss: 1.4288 - val_accuracy: 0.4727\n",
      "Epoch 24/40\n",
      "998/998 [==============================] - 189s 190ms/step - loss: 1.2077 - accuracy: 0.5416 - val_loss: 1.4639 - val_accuracy: 0.4569\n",
      "Epoch 25/40\n",
      "998/998 [==============================] - 190s 190ms/step - loss: 1.4071 - accuracy: 0.4700 - val_loss: 1.4658 - val_accuracy: 0.4462\n",
      "Epoch 26/40\n",
      "998/998 [==============================] - 191s 192ms/step - loss: 1.2508 - accuracy: 0.5286 - val_loss: 1.4215 - val_accuracy: 0.4823\n",
      "Epoch 27/40\n",
      "998/998 [==============================] - 190s 190ms/step - loss: 1.1454 - accuracy: 0.5639 - val_loss: 1.4645 - val_accuracy: 0.4771\n",
      "Epoch 28/40\n",
      "998/998 [==============================] - 190s 190ms/step - loss: 1.1615 - accuracy: 0.5627 - val_loss: 1.7294 - val_accuracy: 0.3931\n",
      "Epoch 29/40\n",
      "998/998 [==============================] - 188s 189ms/step - loss: 1.2510 - accuracy: 0.5308 - val_loss: 1.5855 - val_accuracy: 0.4231\n",
      "Epoch 30/40\n",
      "998/998 [==============================] - 189s 189ms/step - loss: 1.2513 - accuracy: 0.5247 - val_loss: 1.5309 - val_accuracy: 0.4340\n",
      "Epoch 31/40\n",
      "998/998 [==============================] - 189s 189ms/step - loss: 1.1586 - accuracy: 0.5594 - val_loss: 1.6950 - val_accuracy: 0.3603\n",
      "Epoch 32/40\n",
      "998/998 [==============================] - 189s 189ms/step - loss: 1.0599 - accuracy: 0.5953 - val_loss: 1.5134 - val_accuracy: 0.4670\n",
      "Epoch 33/40\n",
      "998/998 [==============================] - 188s 189ms/step - loss: 0.9449 - accuracy: 0.6406 - val_loss: 1.6892 - val_accuracy: 0.4171\n",
      "Epoch 34/40\n",
      "998/998 [==============================] - 188s 188ms/step - loss: 0.8228 - accuracy: 0.6856 - val_loss: 1.7061 - val_accuracy: 0.4686\n",
      "Epoch 35/40\n",
      "998/998 [==============================] - 188s 189ms/step - loss: 0.9629 - accuracy: 0.6346 - val_loss: 1.7145 - val_accuracy: 0.4622\n",
      "Epoch 36/40\n",
      "998/998 [==============================] - 189s 189ms/step - loss: 0.7492 - accuracy: 0.7126 - val_loss: 1.7731 - val_accuracy: 0.4659\n",
      "Epoch 37/40\n",
      "998/998 [==============================] - 188s 189ms/step - loss: 0.7423 - accuracy: 0.7194 - val_loss: 4.6338 - val_accuracy: 0.1747\n",
      "Epoch 38/40\n",
      "998/998 [==============================] - 188s 188ms/step - loss: 1.2611 - accuracy: 0.5287 - val_loss: 1.6142 - val_accuracy: 0.4120\n",
      "Epoch 39/40\n",
      "998/998 [==============================] - 188s 189ms/step - loss: 0.9554 - accuracy: 0.6384 - val_loss: 1.6761 - val_accuracy: 0.4686\n",
      "Epoch 40/40\n",
      "998/998 [==============================] - 188s 189ms/step - loss: 0.7408 - accuracy: 0.7202 - val_loss: 1.9473 - val_accuracy: 0.4556\n",
      "Test Loss: 1.4708166122436523\n",
      "Test Accuracy: 0.46825000643730164\n"
     ]
    }
   ],
   "source": [
    "import tensorflow as tf\n",
    "from tensorflow.keras.applications import ResNet50\n",
    "from tensorflow.keras.layers import Lambda, Flatten, Dense, Dropout\n",
    "from tensorflow.keras.models import Sequential\n",
    "from tensorflow.keras.callbacks import ModelCheckpoint\n",
    "\n",
    "num_classes = 8\n",
    "# Load the pre-trained ResNet50 model\n",
    "base_model = ResNet50(weights='imagenet', include_top=False, input_shape=(224, 224,3))\n",
    "\n",
    "# Make all layers in the base model non-trainable\n",
    "for layer in base_model.layers:\n",
    "    layer.trainable = True\n",
    "\n",
    "# Repeat the grayscale channel three times\n",
    "model2 = Sequential()\n",
    "model2.add(base_model)\n",
    "model2.add(Flatten())\n",
    "model2.add(Dense(128, activation='relu'))\n",
    "model2.add(Dropout(0.2))\n",
    "model2.add(Dense(num_classes, activation='softmax'))  # Replace num_classes with the number of classes in your dataset\n",
    "\n",
    "# Compile the model\n",
    "model2.compile(loss='categorical_crossentropy', optimizer='adam', metrics=['accuracy'])\n",
    "\n",
    "# Print the summary of the model\n",
    "model2.summary()\n",
    "# Define a callback to save the best model based on validation accuracy\n",
    "checkpoint = ModelCheckpoint(\"best_model_resnet50.h5\", monitor=\"val_accuracy\", mode=\"max\", save_best_only=True)\n",
    "\n",
    "# Train the model\n",
    "epochs = 40\n",
    "history = model2.fit(\n",
    "    train_generator,\n",
    "    epochs=epochs,\n",
    "    validation_data=validation_generator,\n",
    "    callbacks=[checkpoint]\n",
    ")\n",
    "\n",
    "# Load the best saved model\n",
    "model2.load_weights(\"best_model_resnet50.h5\")\n",
    "\n",
    "# Evaluate the model on the test set\n",
    "test_loss, test_accuracy = model2.evaluate(test_generator, verbose=0)\n",
    "print(\"Test Loss:\", test_loss)\n",
    "print(\"Test Accuracy:\", test_accuracy)"
   ]
  },
  {
   "cell_type": "code",
   "execution_count": 21,
   "metadata": {
    "execution": {
     "iopub.execute_input": "2023-11-01T10:30:28.789692Z",
     "iopub.status.busy": "2023-11-01T10:30:28.788891Z",
     "iopub.status.idle": "2023-11-01T10:30:37.933835Z",
     "shell.execute_reply": "2023-11-01T10:30:37.932901Z",
     "shell.execute_reply.started": "2023-11-01T10:30:28.789650Z"
    }
   },
   "outputs": [
    {
     "name": "stdout",
     "output_type": "stream",
     "text": [
      "125/125 [==============================] - 9s 62ms/step\n",
      "Confusion Matrix:\n",
      "[[280  15  56  21  10  56  34  28]\n",
      " [ 57 203  28   4  85  82  29  12]\n",
      " [130  25 186  21  20  33  57  28]\n",
      " [ 47   4  14 227  15  30  41 122]\n",
      " [  8  81  14   4 343  16  10  24]\n",
      " [ 98  59  18  18  12 180  65  50]\n",
      " [ 88  19  30  19  26  85 203  30]\n",
      " [ 26  13  18  80  35  46  31 251]]\n"
     ]
    }
   ],
   "source": [
    "from sklearn.metrics import confusion_matrix\n",
    "import numpy as np\n",
    "\n",
    "# Make predictions on the test set\n",
    "predictions = model2.predict(test_generator)\n",
    "predicted_classes = np.argmax(predictions, axis=1)\n",
    "\n",
    "# Get the true labels of the test set\n",
    "true_labels = test_generator.classes\n",
    "\n",
    "# Calculate the confusion matrix\n",
    "cm = confusion_matrix(true_labels, predicted_classes)\n",
    "\n",
    "# Print the confusion matrix\n",
    "print(\"Confusion Matrix:\")\n",
    "print(cm)"
   ]
  },
  {
   "cell_type": "code",
   "execution_count": 22,
   "metadata": {
    "execution": {
     "iopub.execute_input": "2023-11-01T10:30:37.935331Z",
     "iopub.status.busy": "2023-11-01T10:30:37.935030Z",
     "iopub.status.idle": "2023-11-01T10:30:45.444193Z",
     "shell.execute_reply": "2023-11-01T10:30:45.443256Z",
     "shell.execute_reply.started": "2023-11-01T10:30:37.935306Z"
    }
   },
   "outputs": [
    {
     "name": "stdout",
     "output_type": "stream",
     "text": [
      "125/125 [==============================] - 7s 58ms/step\n",
      "              precision    recall  f1-score   support\n",
      "\n",
      "       anger       0.38      0.56      0.45       500\n",
      "    contempt       0.48      0.41      0.44       500\n",
      "     disgust       0.51      0.37      0.43       500\n",
      "        fear       0.58      0.45      0.51       500\n",
      "       happy       0.63      0.69      0.66       500\n",
      "     neutral       0.34      0.36      0.35       500\n",
      "         sad       0.43      0.41      0.42       500\n",
      "    surprise       0.46      0.50      0.48       500\n",
      "\n",
      "    accuracy                           0.47      4000\n",
      "   macro avg       0.48      0.47      0.47      4000\n",
      "weighted avg       0.48      0.47      0.47      4000\n",
      "\n"
     ]
    }
   ],
   "source": [
    "import numpy as np\n",
    "from sklearn.metrics import classification_report\n",
    "\n",
    "# Get the predicted probabilities for the test set\n",
    "y_pred_probabilities = model2.predict(test_generator)\n",
    "\n",
    "# Convert the predicted probabilities to class labels\n",
    "y_pred_labels = np.argmax(y_pred_probabilities, axis=1)\n",
    "\n",
    "# Get the true class labels for the test set\n",
    "y_true_labels = test_generator.classes\n",
    "\n",
    "# Get the class names\n",
    "class_names = list(test_generator.class_indices.keys())\n",
    "\n",
    "# Print the classification report\n",
    "print(classification_report(y_true_labels, y_pred_labels, target_names=class_names))\n"
   ]
  },
  {
   "cell_type": "code",
   "execution_count": 23,
   "metadata": {
    "execution": {
     "iopub.execute_input": "2023-11-01T10:30:45.446543Z",
     "iopub.status.busy": "2023-11-01T10:30:45.446234Z",
     "iopub.status.idle": "2023-11-01T10:30:46.126277Z",
     "shell.execute_reply": "2023-11-01T10:30:46.125398Z",
     "shell.execute_reply.started": "2023-11-01T10:30:45.446518Z"
    }
   },
   "outputs": [
    {
     "data": {
      "image/png": "[encoded data removed]",
      "text/plain": [
       "<Figure size 1200x600 with 2 Axes>"
      ]
     },
     "metadata": {},
     "output_type": "display_data"
    }
   ],
   "source": [
    "import matplotlib.pyplot as plt\n",
    "\n",
    "# Access the training history\n",
    "training_accuracy = history.history['accuracy']\n",
    "validation_accuracy = history.history['val_accuracy']\n",
    "training_loss = history.history['loss']\n",
    "validation_loss = history.history['val_loss']\n",
    "\n",
    "# Create subplots for accuracy and loss\n",
    "plt.figure(figsize=(12, 6))\n",
    "\n",
    "# Plot training and validation accuracy\n",
    "plt.subplot(1, 2, 1)\n",
    "plt.plot(training_accuracy, label='Training Accuracy')\n",
    "plt.plot(validation_accuracy, label='Validation Accuracy')\n",
    "plt.xlabel('Epoch')\n",
    "plt.ylabel('Accuracy')\n",
    "plt.legend()\n",
    "plt.title('Training and Validation Accuracy')\n",
    "\n",
    "# Plot training and validation loss\n",
    "plt.subplot(1, 2, 2)\n",
    "plt.plot(training_loss, label='Training Loss')\n",
    "plt.plot(validation_loss, label='Validation Loss')\n",
    "plt.xlabel('Epoch')\n",
    "plt.ylabel('Loss')\n",
    "plt.legend()\n",
    "plt.title('Training and Validation Loss')\n",
    "\n",
    "plt.tight_layout()\n",
    "plt.show()\n"
   ]
  },
  {
   "cell_type": "code",
   "execution_count": null,
   "metadata": {},
   "outputs": [],
   "source": []
  },
  {
   "cell_type": "markdown",
   "metadata": {},
   "source": [
    "# DenseNet121"
   ]
  },
  {
   "cell_type": "code",
   "execution_count": 24,
   "metadata": {
    "execution": {
     "iopub.execute_input": "2023-11-01T10:30:46.127920Z",
     "iopub.status.busy": "2023-11-01T10:30:46.127580Z",
     "iopub.status.idle": "2023-11-01T13:50:43.197788Z",
     "shell.execute_reply": "2023-11-01T13:50:43.196666Z",
     "shell.execute_reply.started": "2023-11-01T10:30:46.127882Z"
    }
   },
   "outputs": [
    {
     "name": "stdout",
     "output_type": "stream",
     "text": [
      "Downloading data from https://storage.googleapis.com/tensorflow/keras-applications/densenet/densenet121_weights_tf_dim_ordering_tf_kernels_notop.h5\n",
      "29084464/29084464 [==============================] - 1s 0us/step\n",
      "Model: \"model_1\"\n",
      "_________________________________________________________________\n",
      " Layer (type)                Output Shape              Param #   \n",
      "=================================================================\n",
      " input_5 (InputLayer)        [(None, 224, 224, 3)]     0         \n",
      "                                                                 \n",
      " densenet121 (Functional)    (None, 7, 7, 1024)        7037504   \n",
      "                                                                 \n",
      " global_average_pooling2d_7   (None, 1024)             0         \n",
      " (GlobalAveragePooling2D)                                        \n",
      "                                                                 \n",
      " dense_34 (Dense)            (None, 512)               524800    \n",
      "                                                                 \n",
      " batch_normalization (BatchN  (None, 512)              2048      \n",
      " ormalization)                                                   \n",
      "                                                                 \n",
      " dense_35 (Dense)            (None, 8)                 4104      \n",
      "                                                                 \n",
      "=================================================================\n",
      "Total params: 7,568,456\n",
      "Trainable params: 7,483,784\n",
      "Non-trainable params: 84,672\n",
      "_________________________________________________________________\n",
      "Epoch 1/60\n",
      "998/998 [==============================] - 276s 206ms/step - loss: 1.6267 - accuracy: 0.3927 - val_loss: 1.5625 - val_accuracy: 0.4178\n",
      "Epoch 2/60\n",
      "998/998 [==============================] - 198s 199ms/step - loss: 1.3957 - accuracy: 0.4771 - val_loss: 1.6072 - val_accuracy: 0.4315\n",
      "Epoch 3/60\n",
      "998/998 [==============================] - 197s 197ms/step - loss: 1.2838 - accuracy: 0.5201 - val_loss: 1.7724 - val_accuracy: 0.4093\n",
      "Epoch 4/60\n",
      "998/998 [==============================] - 200s 200ms/step - loss: 1.2326 - accuracy: 0.5433 - val_loss: 1.3532 - val_accuracy: 0.4947\n",
      "Epoch 5/60\n",
      "998/998 [==============================] - 199s 200ms/step - loss: 1.1957 - accuracy: 0.5578 - val_loss: 1.4059 - val_accuracy: 0.4979\n",
      "Epoch 6/60\n",
      "998/998 [==============================] - 199s 199ms/step - loss: 1.1486 - accuracy: 0.5795 - val_loss: 2.1817 - val_accuracy: 0.5055\n",
      "Epoch 7/60\n",
      "998/998 [==============================] - 199s 199ms/step - loss: 1.1013 - accuracy: 0.5910 - val_loss: 1.4007 - val_accuracy: 0.5252\n",
      "Epoch 8/60\n",
      "998/998 [==============================] - 198s 199ms/step - loss: 1.0559 - accuracy: 0.6136 - val_loss: 1.3500 - val_accuracy: 0.5414\n",
      "Epoch 9/60\n",
      "998/998 [==============================] - 198s 198ms/step - loss: 1.0239 - accuracy: 0.6227 - val_loss: 1.3311 - val_accuracy: 0.5185\n",
      "Epoch 10/60\n",
      "998/998 [==============================] - 197s 198ms/step - loss: 0.9698 - accuracy: 0.6425 - val_loss: 2.1095 - val_accuracy: 0.4725\n",
      "Epoch 11/60\n",
      "998/998 [==============================] - 200s 200ms/step - loss: 0.8813 - accuracy: 0.6771 - val_loss: 1.3237 - val_accuracy: 0.5477\n",
      "Epoch 12/60\n",
      "998/998 [==============================] - 198s 198ms/step - loss: 0.7994 - accuracy: 0.7061 - val_loss: 1.4665 - val_accuracy: 0.5160\n",
      "Epoch 13/60\n",
      "998/998 [==============================] - 198s 198ms/step - loss: 0.7050 - accuracy: 0.7394 - val_loss: 1.6143 - val_accuracy: 0.5279\n",
      "Epoch 14/60\n",
      "998/998 [==============================] - 197s 197ms/step - loss: 0.6028 - accuracy: 0.7805 - val_loss: 3.3471 - val_accuracy: 0.4924\n",
      "Epoch 15/60\n",
      "998/998 [==============================] - 198s 199ms/step - loss: 0.5107 - accuracy: 0.8146 - val_loss: 1.9159 - val_accuracy: 0.5181\n",
      "Epoch 16/60\n",
      "998/998 [==============================] - 198s 198ms/step - loss: 0.4260 - accuracy: 0.8459 - val_loss: 2.0558 - val_accuracy: 0.5147\n",
      "Epoch 17/60\n",
      "998/998 [==============================] - 198s 198ms/step - loss: 0.3548 - accuracy: 0.8733 - val_loss: 2.1323 - val_accuracy: 0.4972\n",
      "Epoch 18/60\n",
      "998/998 [==============================] - 198s 198ms/step - loss: 0.3257 - accuracy: 0.8832 - val_loss: 1.8990 - val_accuracy: 0.5222\n",
      "Epoch 19/60\n",
      "998/998 [==============================] - 198s 199ms/step - loss: 0.2672 - accuracy: 0.9078 - val_loss: 2.3571 - val_accuracy: 0.5057\n",
      "Epoch 20/60\n",
      "998/998 [==============================] - 197s 198ms/step - loss: 0.2533 - accuracy: 0.9135 - val_loss: 2.3084 - val_accuracy: 0.5037\n",
      "Epoch 21/60\n",
      "998/998 [==============================] - 198s 198ms/step - loss: 0.2280 - accuracy: 0.9223 - val_loss: 3.1904 - val_accuracy: 0.5055\n",
      "Epoch 22/60\n",
      "998/998 [==============================] - 197s 197ms/step - loss: 0.2185 - accuracy: 0.9275 - val_loss: 2.5567 - val_accuracy: 0.5209\n",
      "Epoch 23/60\n",
      "998/998 [==============================] - 198s 199ms/step - loss: 0.1995 - accuracy: 0.9309 - val_loss: 2.7369 - val_accuracy: 0.5112\n",
      "Epoch 24/60\n",
      "998/998 [==============================] - 197s 197ms/step - loss: 0.1913 - accuracy: 0.9372 - val_loss: 2.8381 - val_accuracy: 0.5032\n",
      "Epoch 25/60\n",
      "998/998 [==============================] - 198s 198ms/step - loss: 0.1803 - accuracy: 0.9409 - val_loss: 2.4869 - val_accuracy: 0.5156\n",
      "Epoch 26/60\n",
      "998/998 [==============================] - 198s 198ms/step - loss: 0.1759 - accuracy: 0.9406 - val_loss: 3.0714 - val_accuracy: 0.4789\n",
      "Epoch 27/60\n",
      "998/998 [==============================] - 199s 199ms/step - loss: 0.1614 - accuracy: 0.9477 - val_loss: 2.6667 - val_accuracy: 0.5165\n",
      "Epoch 28/60\n",
      "998/998 [==============================] - 197s 197ms/step - loss: 0.1581 - accuracy: 0.9482 - val_loss: 3.1351 - val_accuracy: 0.4924\n",
      "Epoch 29/60\n",
      "998/998 [==============================] - 198s 198ms/step - loss: 0.1447 - accuracy: 0.9534 - val_loss: 2.6893 - val_accuracy: 0.4973\n",
      "Epoch 30/60\n",
      "998/998 [==============================] - 196s 197ms/step - loss: 0.1493 - accuracy: 0.9535 - val_loss: 2.7800 - val_accuracy: 0.5060\n",
      "Epoch 31/60\n",
      "998/998 [==============================] - 198s 198ms/step - loss: 0.1453 - accuracy: 0.9528 - val_loss: 2.7649 - val_accuracy: 0.5028\n",
      "Epoch 32/60\n",
      "998/998 [==============================] - 196s 197ms/step - loss: 0.1367 - accuracy: 0.9562 - val_loss: 2.7100 - val_accuracy: 0.4901\n",
      "Epoch 33/60\n",
      "998/998 [==============================] - 197s 197ms/step - loss: 0.1293 - accuracy: 0.9584 - val_loss: 2.9267 - val_accuracy: 0.5114\n",
      "Epoch 34/60\n",
      "998/998 [==============================] - 197s 197ms/step - loss: 0.1239 - accuracy: 0.9609 - val_loss: 2.6571 - val_accuracy: 0.5238\n",
      "Epoch 35/60\n",
      "998/998 [==============================] - 199s 199ms/step - loss: 0.1212 - accuracy: 0.9620 - val_loss: 2.8568 - val_accuracy: 0.5167\n",
      "Epoch 36/60\n",
      "998/998 [==============================] - 197s 197ms/step - loss: 0.1187 - accuracy: 0.9617 - val_loss: 3.1121 - val_accuracy: 0.4940\n",
      "Epoch 37/60\n",
      "998/998 [==============================] - 198s 198ms/step - loss: 0.1190 - accuracy: 0.9621 - val_loss: 3.2094 - val_accuracy: 0.4927\n",
      "Epoch 38/60\n",
      "998/998 [==============================] - 197s 197ms/step - loss: 0.1093 - accuracy: 0.9650 - val_loss: 2.7077 - val_accuracy: 0.5144\n",
      "Epoch 39/60\n",
      "998/998 [==============================] - 199s 199ms/step - loss: 0.1085 - accuracy: 0.9655 - val_loss: 3.3372 - val_accuracy: 0.4808\n",
      "Epoch 40/60\n",
      "998/998 [==============================] - 198s 199ms/step - loss: 0.1126 - accuracy: 0.9622 - val_loss: 2.6555 - val_accuracy: 0.5133\n",
      "Epoch 41/60\n",
      "998/998 [==============================] - 199s 200ms/step - loss: 0.0981 - accuracy: 0.9686 - val_loss: 2.7343 - val_accuracy: 0.5254\n",
      "Epoch 42/60\n",
      "998/998 [==============================] - 200s 200ms/step - loss: 0.1004 - accuracy: 0.9688 - val_loss: 3.0148 - val_accuracy: 0.5119\n",
      "Epoch 43/60\n",
      "998/998 [==============================] - 199s 200ms/step - loss: 0.1004 - accuracy: 0.9685 - val_loss: 3.0027 - val_accuracy: 0.5083\n",
      "Epoch 44/60\n",
      "998/998 [==============================] - 198s 198ms/step - loss: 0.0988 - accuracy: 0.9680 - val_loss: 2.8001 - val_accuracy: 0.4862\n",
      "Epoch 45/60\n",
      "998/998 [==============================] - 199s 199ms/step - loss: 0.0931 - accuracy: 0.9709 - val_loss: 3.1059 - val_accuracy: 0.5165\n",
      "Epoch 46/60\n",
      "998/998 [==============================] - 198s 198ms/step - loss: 0.0913 - accuracy: 0.9710 - val_loss: 2.9687 - val_accuracy: 0.5160\n",
      "Epoch 47/60\n",
      "998/998 [==============================] - 199s 200ms/step - loss: 0.0886 - accuracy: 0.9718 - val_loss: 2.8544 - val_accuracy: 0.5169\n",
      "Epoch 48/60\n",
      "998/998 [==============================] - 199s 199ms/step - loss: 0.0891 - accuracy: 0.9708 - val_loss: 3.0145 - val_accuracy: 0.5098\n",
      "Epoch 49/60\n",
      "998/998 [==============================] - 198s 199ms/step - loss: 0.0863 - accuracy: 0.9707 - val_loss: 2.8228 - val_accuracy: 0.5137\n",
      "Epoch 50/60\n",
      "998/998 [==============================] - 198s 198ms/step - loss: 0.0885 - accuracy: 0.9712 - val_loss: 2.8507 - val_accuracy: 0.5099\n",
      "Epoch 51/60\n",
      "998/998 [==============================] - 199s 199ms/step - loss: 0.0749 - accuracy: 0.9762 - val_loss: 3.0492 - val_accuracy: 0.5098\n",
      "Epoch 52/60\n",
      "998/998 [==============================] - 199s 200ms/step - loss: 0.0770 - accuracy: 0.9759 - val_loss: 3.0631 - val_accuracy: 0.5162\n",
      "Epoch 53/60\n",
      "998/998 [==============================] - 201s 202ms/step - loss: 0.0791 - accuracy: 0.9753 - val_loss: 3.1299 - val_accuracy: 0.5254\n",
      "Epoch 54/60\n",
      "998/998 [==============================] - 200s 201ms/step - loss: 0.0718 - accuracy: 0.9775 - val_loss: 3.2811 - val_accuracy: 0.5185\n",
      "Epoch 55/60\n",
      "998/998 [==============================] - 201s 201ms/step - loss: 0.0825 - accuracy: 0.9725 - val_loss: 3.1200 - val_accuracy: 0.5066\n",
      "Epoch 56/60\n",
      "998/998 [==============================] - 199s 200ms/step - loss: 0.0754 - accuracy: 0.9746 - val_loss: 3.1053 - val_accuracy: 0.5051\n",
      "Epoch 57/60\n",
      "998/998 [==============================] - 201s 201ms/step - loss: 0.0711 - accuracy: 0.9768 - val_loss: 3.1755 - val_accuracy: 0.5105\n",
      "Epoch 58/60\n",
      "998/998 [==============================] - 198s 199ms/step - loss: 0.0721 - accuracy: 0.9770 - val_loss: 3.0776 - val_accuracy: 0.5117\n",
      "Epoch 59/60\n",
      "998/998 [==============================] - 199s 200ms/step - loss: 0.0737 - accuracy: 0.9766 - val_loss: 3.2379 - val_accuracy: 0.5202\n",
      "Epoch 60/60\n",
      "998/998 [==============================] - 198s 198ms/step - loss: 0.0677 - accuracy: 0.9782 - val_loss: 3.0141 - val_accuracy: 0.5122\n",
      "Test Loss: 1.4205095767974854\n",
      "Test Accuracy: 0.5360000133514404\n"
     ]
    }
   ],
   "source": [
    "import tensorflow as tf\n",
    "from tensorflow.keras.layers import Input, Conv2D, BatchNormalization, Activation, MaxPooling2D, GlobalAveragePooling2D, Dense, Lambda\n",
    "from tensorflow.keras.models import Model\n",
    "from tensorflow.keras.applications.densenet import DenseNet121\n",
    "from tensorflow.keras.preprocessing.image import ImageDataGenerator\n",
    "from tensorflow.keras.utils import to_categorical\n",
    "from tensorflow.keras.callbacks import ModelCheckpoint\n",
    "\n",
    "# Define the input shape for rgb images\n",
    "input_shape = (224, 224, 3)\n",
    "\n",
    "# Define the number of classes in the dataset\n",
    "num_classes = 8\n",
    "\n",
    "# Create the DenseNet base model with pre-trained weights (excluding top layers)\n",
    "base_model = DenseNet121(include_top=False, weights='imagenet', input_shape=(224, 224, 3))\n",
    "\n",
    "# Freeze the layers in the base model\n",
    "for layer in base_model.layers:\n",
    "    layer.trainable = True\n",
    "\n",
    "# Lambda layer to repeat the single-channel grayscale image to three channels\n",
    "input_tensor = Input(shape=input_shape)\n",
    "x = (input_tensor)\n",
    "\n",
    "# Connect the modified input tensor to the base model\n",
    "x = base_model(x)\n",
    "\n",
    "# Add custom top layers for classification\n",
    "x = GlobalAveragePooling2D()(x)\n",
    "x = Dense(512, activation='relu')(x)\n",
    "x = BatchNormalization()(x)\n",
    "x = Dense(num_classes, activation='softmax')(x)\n",
    "\n",
    "# Create the custom DenseNet model\n",
    "densenet_model = Model(inputs=input_tensor, outputs=x)\n",
    "\n",
    "# Compile the model\n",
    "densenet_model.compile(optimizer='adam', loss='categorical_crossentropy', metrics=['accuracy'])\n",
    "\n",
    "# Print the model summary\n",
    "densenet_model.summary()\n",
    "\n",
    "# Define a callback to save the best model based on validation accuracy\n",
    "checkpoint = ModelCheckpoint(\"best_model_densenet121.h5\", monitor=\"val_accuracy\", mode=\"max\", save_best_only=True)\n",
    "\n",
    "# Train the model\n",
    "epochs = 60\n",
    "history = densenet_model.fit(\n",
    "    train_generator,\n",
    "    epochs=epochs,\n",
    "    validation_data=validation_generator,\n",
    "    callbacks=[checkpoint]`\n",
    ")\n",
    "\n",
    "# Load the best saved model\n",
    "densenet_model.load_weights(\"best_model_densenet121.h5\")\n",
    "\n",
    "# Evaluate the model on the test set\n",
    "test_loss, test_accuracy = densenet_model.evaluate(test_generator, verbose=0)\n",
    "print(\"Test Loss:\", test_loss)\n",
    "print(\"Test Accuracy:\", test_accuracy)"
   ]
  },
  {
   "cell_type": "code",
   "execution_count": 25,
   "metadata": {
    "execution": {
     "iopub.execute_input": "2023-11-01T13:50:43.199628Z",
     "iopub.status.busy": "2023-11-01T13:50:43.199201Z",
     "iopub.status.idle": "2023-11-01T13:50:43.912643Z",
     "shell.execute_reply": "2023-11-01T13:50:43.911669Z",
     "shell.execute_reply.started": "2023-11-01T13:50:43.199591Z"
    }
   },
   "outputs": [
    {
     "data": {
      "image/png": "[encoded data removed]",
      "text/plain": [
       "<Figure size 1200x600 with 2 Axes>"
      ]
     },
     "metadata": {},
     "output_type": "display_data"
    }
   ],
   "source": [
    "import matplotlib.pyplot as plt\n",
    "\n",
    "# Access the training history\n",
    "training_accuracy = history.history['accuracy']\n",
    "validation_accuracy = history.history['val_accuracy']\n",
    "training_loss = history.history['loss']\n",
    "validation_loss = history.history['val_loss']\n",
    "\n",
    "# Create subplots for accuracy and loss\n",
    "plt.figure(figsize=(12, 6))\n",
    "\n",
    "# Plot training and validation accuracy\n",
    "plt.subplot(1, 2, 1)\n",
    "plt.plot(training_accuracy, label='Training Accuracy')\n",
    "plt.plot(validation_accuracy, label='Validation Accuracy')\n",
    "plt.xlabel('Epoch')\n",
    "plt.ylabel('Accuracy')\n",
    "plt.legend()\n",
    "plt.title('Training and Validation Accuracy')\n",
    "\n",
    "# Plot training and validation loss\n",
    "plt.subplot(1, 2, 2)\n",
    "plt.plot(training_loss, label='Training Loss')\n",
    "plt.plot(validation_loss, label='Validation Loss')\n",
    "plt.xlabel('Epoch')\n",
    "plt.ylabel('Loss')\n",
    "plt.legend()\n",
    "plt.title('Training and Validation Loss')\n",
    "\n",
    "plt.tight_layout()\n",
    "plt.show()\n"
   ]
  },
  {
   "cell_type": "code",
   "execution_count": 26,
   "metadata": {
    "execution": {
     "iopub.execute_input": "2023-11-01T13:50:43.914150Z",
     "iopub.status.busy": "2023-11-01T13:50:43.913847Z",
     "iopub.status.idle": "2023-11-01T13:50:54.719925Z",
     "shell.execute_reply": "2023-11-01T13:50:54.718991Z",
     "shell.execute_reply.started": "2023-11-01T13:50:43.914124Z"
    }
   },
   "outputs": [
    {
     "name": "stdout",
     "output_type": "stream",
     "text": [
      "125/125 [==============================] - 11s 70ms/step\n",
      "Confusion Matrix:\n",
      "[[183  27  52  51   4  78  49  56]\n",
      " [ 19 218  22   6  82  91  26  36]\n",
      " [ 44  19 228  46  27  32  53  51]\n",
      " [ 11   6  14 336   7  13  37  76]\n",
      " [  2  55   4   5 351  23   6  54]\n",
      " [ 16  50  11  28  12 253  61  69]\n",
      " [ 26  13  24  47  15  61 286  28]\n",
      " [  2  19   9 102  24  33  22 289]]\n"
     ]
    }
   ],
   "source": [
    "from sklearn.metrics import confusion_matrix\n",
    "import numpy as np\n",
    "\n",
    "# Make predictions on the test set\n",
    "predictions = densenet_model.predict(test_generator)\n",
    "predicted_classes = np.argmax(predictions, axis=1)\n",
    "\n",
    "# Get the true labels of the test set\n",
    "true_labels = test_generator.classes\n",
    "\n",
    "# Calculate the confusion matrix\n",
    "cm = confusion_matrix(true_labels, predicted_classes)\n",
    "\n",
    "# Print the confusion matrix\n",
    "print(\"Confusion Matrix:\")\n",
    "print(cm)"
   ]
  },
  {
   "cell_type": "code",
   "execution_count": 27,
   "metadata": {
    "execution": {
     "iopub.execute_input": "2023-11-01T13:50:54.721542Z",
     "iopub.status.busy": "2023-11-01T13:50:54.721209Z",
     "iopub.status.idle": "2023-11-01T13:51:05.034512Z",
     "shell.execute_reply": "2023-11-01T13:51:05.032623Z",
     "shell.execute_reply.started": "2023-11-01T13:50:54.721514Z"
    }
   },
   "outputs": [
    {
     "name": "stdout",
     "output_type": "stream",
     "text": [
      "125/125 [==============================] - 10s 81ms/step\n",
      "              precision    recall  f1-score   support\n",
      "\n",
      "       anger       0.60      0.37      0.46       500\n",
      "    contempt       0.54      0.44      0.48       500\n",
      "     disgust       0.63      0.46      0.53       500\n",
      "        fear       0.54      0.67      0.60       500\n",
      "       happy       0.67      0.70      0.69       500\n",
      "     neutral       0.43      0.51      0.47       500\n",
      "         sad       0.53      0.57      0.55       500\n",
      "    surprise       0.44      0.58      0.50       500\n",
      "\n",
      "    accuracy                           0.54      4000\n",
      "   macro avg       0.55      0.54      0.53      4000\n",
      "weighted avg       0.55      0.54      0.53      4000\n",
      "\n"
     ]
    }
   ],
   "source": [
    "import numpy as np\n",
    "from sklearn.metrics import classification_report\n",
    "\n",
    "# Get the predicted probabilities for the test set\n",
    "y_pred_probabilities = densenet_model.predict(test_generator)\n",
    "\n",
    "# Convert the predicted probabilities to class labels\n",
    "y_pred_labels = np.argmax(y_pred_probabilities, axis=1)\n",
    "\n",
    "# Get the true class labels for the test set\n",
    "y_true_labels = test_generator.classes\n",
    "\n",
    "# Get the class names\n",
    "class_names = list(test_generator.class_indices.keys())\n",
    "\n",
    "# Print the classification report\n",
    "print(classification_report(y_true_labels, y_pred_labels, target_names=class_names))"
   ]
  },
  {
   "cell_type": "code",
   "execution_count": 28,
   "metadata": {
    "execution": {
     "iopub.execute_input": "2023-11-01T13:51:05.036680Z",
     "iopub.status.busy": "2023-11-01T13:51:05.036177Z",
     "iopub.status.idle": "2023-11-01T13:51:08.216656Z",
     "shell.execute_reply": "2023-11-01T13:51:08.215655Z",
     "shell.execute_reply.started": "2023-11-01T13:51:05.036642Z"
    }
   },
   "outputs": [
    {
     "name": "stdout",
     "output_type": "stream",
     "text": [
      "427\n"
     ]
    }
   ],
   "source": [
    "import tensorflow as tf\n",
    "# Create the DenseNet base model with pre-trained weights (excluding top layers)\n",
    "base_model = DenseNet121(include_top=False, weights='imagenet', input_shape=(96, 96, 3))\n",
    "\n",
    "# Freeze the layers in the base model\n",
    "for layer in base_model.layers:\n",
    "    layer.trainable = True\n",
    "\n",
    "print(len(base_model.layers))"
   ]
  },
  {
   "cell_type": "code",
   "execution_count": 29,
   "metadata": {
    "execution": {
     "iopub.execute_input": "2023-11-01T13:51:08.221204Z",
     "iopub.status.busy": "2023-11-01T13:51:08.220924Z",
     "iopub.status.idle": "2023-11-01T13:51:08.225808Z",
     "shell.execute_reply": "2023-11-01T13:51:08.224874Z",
     "shell.execute_reply.started": "2023-11-01T13:51:08.221181Z"
    }
   },
   "outputs": [
    {
     "name": "stdout",
     "output_type": "stream",
     "text": [
      "6\n"
     ]
    }
   ],
   "source": [
    "print(len(densenet_model.layers))"
   ]
  },
  {
   "cell_type": "code",
   "execution_count": null,
   "metadata": {},
   "outputs": [],
   "source": []
  },
  {
   "cell_type": "markdown",
   "metadata": {},
   "source": [
    "# CNN"
   ]
  },
  {
   "cell_type": "code",
   "execution_count": 30,
   "metadata": {
    "execution": {
     "iopub.execute_input": "2023-11-01T13:51:08.227255Z",
     "iopub.status.busy": "2023-11-01T13:51:08.226988Z",
     "iopub.status.idle": "2023-11-01T13:51:08.236672Z",
     "shell.execute_reply": "2023-11-01T13:51:08.235752Z",
     "shell.execute_reply.started": "2023-11-01T13:51:08.227230Z"
    }
   },
   "outputs": [],
   "source": [
    "from keras.layers import Dense,Input,Dropout,GlobalAveragePooling2D,Flatten,Conv2D,BatchNormalization,Activation,MaxPooling2D\n",
    "from keras.models import Model,Sequential\n",
    "from keras.optimizers import Adam,SGD,RMSprop"
   ]
  },
  {
   "cell_type": "code",
   "execution_count": null,
   "metadata": {
    "execution": {
     "iopub.execute_input": "2023-11-01T13:51:08.238573Z",
     "iopub.status.busy": "2023-11-01T13:51:08.238148Z"
    }
   },
   "outputs": [
    {
     "name": "stdout",
     "output_type": "stream",
     "text": [
      "Model: \"sequential_23\"\n",
      "_________________________________________________________________\n",
      " Layer (type)                Output Shape              Param #   \n",
      "=================================================================\n",
      " conv2d_24 (Conv2D)          (None, 224, 224, 64)      1792      \n",
      "                                                                 \n",
      " batch_normalization_1 (Batc  (None, 224, 224, 64)     256       \n",
      " hNormalization)                                                 \n",
      "                                                                 \n",
      " activation (Activation)     (None, 224, 224, 64)      0         \n",
      "                                                                 \n",
      " max_pooling2d (MaxPooling2D  (None, 112, 112, 64)     0         \n",
      " )                                                               \n",
      "                                                                 \n",
      " dropout_17 (Dropout)        (None, 112, 112, 64)      0         \n",
      "                                                                 \n",
      " conv2d_25 (Conv2D)          (None, 112, 112, 128)     73856     \n",
      "                                                                 \n",
      " batch_normalization_2 (Batc  (None, 112, 112, 128)    512       \n",
      " hNormalization)                                                 \n",
      "                                                                 \n",
      " activation_1 (Activation)   (None, 112, 112, 128)     0         \n",
      "                                                                 \n",
      " max_pooling2d_1 (MaxPooling  (None, 56, 56, 128)      0         \n",
      " 2D)                                                             \n",
      "                                                                 \n",
      " dropout_18 (Dropout)        (None, 56, 56, 128)       0         \n",
      "                                                                 \n",
      " conv2d_26 (Conv2D)          (None, 56, 56, 256)       295168    \n",
      "                                                                 \n",
      " batch_normalization_3 (Batc  (None, 56, 56, 256)      1024      \n",
      " hNormalization)                                                 \n",
      "                                                                 \n",
      " activation_2 (Activation)   (None, 56, 56, 256)       0         \n",
      "                                                                 \n",
      " max_pooling2d_2 (MaxPooling  (None, 28, 28, 256)      0         \n",
      " 2D)                                                             \n",
      "                                                                 \n",
      " dropout_19 (Dropout)        (None, 28, 28, 256)       0         \n",
      "                                                                 \n",
      " conv2d_27 (Conv2D)          (None, 28, 28, 512)       1180160   \n",
      "                                                                 \n",
      " batch_normalization_4 (Batc  (None, 28, 28, 512)      2048      \n",
      " hNormalization)                                                 \n",
      "                                                                 \n",
      " activation_3 (Activation)   (None, 28, 28, 512)       0         \n",
      "                                                                 \n",
      " max_pooling2d_3 (MaxPooling  (None, 14, 14, 512)      0         \n",
      " 2D)                                                             \n",
      "                                                                 \n",
      " dropout_20 (Dropout)        (None, 14, 14, 512)       0         \n",
      "                                                                 \n",
      " conv2d_28 (Conv2D)          (None, 14, 14, 512)       2359808   \n",
      "                                                                 \n",
      " batch_normalization_5 (Batc  (None, 14, 14, 512)      2048      \n",
      " hNormalization)                                                 \n",
      "                                                                 \n",
      " activation_4 (Activation)   (None, 14, 14, 512)       0         \n",
      "                                                                 \n",
      " max_pooling2d_4 (MaxPooling  (None, 7, 7, 512)        0         \n",
      " 2D)                                                             \n",
      "                                                                 \n",
      " dropout_21 (Dropout)        (None, 7, 7, 512)         0         \n",
      "                                                                 \n",
      " flatten_3 (Flatten)         (None, 25088)             0         \n",
      "                                                                 \n",
      " dense_36 (Dense)            (None, 512)               12845568  \n",
      "                                                                 \n",
      " batch_normalization_6 (Batc  (None, 512)              2048      \n",
      " hNormalization)                                                 \n",
      "                                                                 \n",
      " activation_5 (Activation)   (None, 512)               0         \n",
      "                                                                 \n",
      " dropout_22 (Dropout)        (None, 512)               0         \n",
      "                                                                 \n",
      " dense_37 (Dense)            (None, 512)               262656    \n",
      "                                                                 \n",
      " batch_normalization_7 (Batc  (None, 512)              2048      \n",
      " hNormalization)                                                 \n",
      "                                                                 \n",
      " activation_6 (Activation)   (None, 512)               0         \n",
      "                                                                 \n",
      " dropout_23 (Dropout)        (None, 512)               0         \n",
      "                                                                 \n",
      " dense_38 (Dense)            (None, 8)                 4104      \n",
      "                                                                 \n",
      "=================================================================\n",
      "Total params: 17,033,096\n",
      "Trainable params: 17,028,104\n",
      "Non-trainable params: 4,992\n",
      "_________________________________________________________________\n",
      "Epoch 1/60\n"
     ]
    },
    {
     "name": "stderr",
     "output_type": "stream",
     "text": [
      "2023-11-01 13:51:10.616908: E tensorflow/core/grappler/optimizers/meta_optimizer.cc:954] layout failed: INVALID_ARGUMENT: Size of values 0 does not match size of permutation 4 @ fanin shape insequential_23/dropout_17/dropout/SelectV2-2-TransposeNHWCToNCHW-LayoutOptimizer\n"
     ]
    },
    {
     "name": "stdout",
     "output_type": "stream",
     "text": [
      "998/998 [==============================] - ETA: 0s - loss: 2.2931 - accuracy: 0.1458\n",
      "Epoch 1: val_accuracy improved from -inf to 0.14821, saving model to /kaggle/working/model1_checkpoint.h5\n",
      "998/998 [==============================] - 164s 161ms/step - loss: 2.2931 - accuracy: 0.1458 - val_loss: 2.2532 - val_accuracy: 0.1482\n",
      "Epoch 2/60\n",
      "998/998 [==============================] - ETA: 0s - loss: 2.0324 - accuracy: 0.2132\n",
      "Epoch 2: val_accuracy improved from 0.14821 to 0.29801, saving model to /kaggle/working/model1_checkpoint.h5\n",
      "998/998 [==============================] - 159s 159ms/step - loss: 2.0324 - accuracy: 0.2132 - val_loss: 1.8364 - val_accuracy: 0.2980\n",
      "Epoch 3/60\n",
      "998/998 [==============================] - ETA: 0s - loss: 1.7827 - accuracy: 0.3231\n",
      "Epoch 3: val_accuracy improved from 0.29801 to 0.37451, saving model to /kaggle/working/model1_checkpoint.h5\n",
      "998/998 [==============================] - 159s 160ms/step - loss: 1.7827 - accuracy: 0.3231 - val_loss: 1.6417 - val_accuracy: 0.3745\n",
      "Epoch 4/60\n",
      "998/998 [==============================] - ETA: 0s - loss: 1.6252 - accuracy: 0.3896\n",
      "Epoch 4: val_accuracy did not improve from 0.37451\n",
      "998/998 [==============================] - 160s 160ms/step - loss: 1.6252 - accuracy: 0.3896 - val_loss: 1.7626 - val_accuracy: 0.3410\n",
      "Epoch 5/60\n",
      "998/998 [==============================] - ETA: 0s - loss: 1.5247 - accuracy: 0.4296\n",
      "Epoch 5: val_accuracy improved from 0.37451 to 0.43291, saving model to /kaggle/working/model1_checkpoint.h5\n",
      "998/998 [==============================] - 158s 158ms/step - loss: 1.5247 - accuracy: 0.4296 - val_loss: 1.5333 - val_accuracy: 0.4329\n",
      "Epoch 6/60\n",
      "998/998 [==============================] - ETA: 0s - loss: 1.4649 - accuracy: 0.4585\n",
      "Epoch 6: val_accuracy improved from 0.43291 to 0.45829, saving model to /kaggle/working/model1_checkpoint.h5\n",
      "998/998 [==============================] - 159s 159ms/step - loss: 1.4649 - accuracy: 0.4585 - val_loss: 1.5144 - val_accuracy: 0.4583\n",
      "Epoch 7/60\n",
      "998/998 [==============================] - ETA: 0s - loss: 1.4198 - accuracy: 0.4801\n",
      "Epoch 7: val_accuracy improved from 0.45829 to 0.47107, saving model to /kaggle/working/model1_checkpoint.h5\n",
      "998/998 [==============================] - 157s 158ms/step - loss: 1.4198 - accuracy: 0.4801 - val_loss: 1.4487 - val_accuracy: 0.4711\n",
      "Epoch 8/60\n",
      "998/998 [==============================] - ETA: 0s - loss: 1.3766 - accuracy: 0.4998\n",
      "Epoch 8: val_accuracy improved from 0.47107 to 0.49521, saving model to /kaggle/working/model1_checkpoint.h5\n",
      "998/998 [==============================] - 159s 159ms/step - loss: 1.3766 - accuracy: 0.4998 - val_loss: 1.4040 - val_accuracy: 0.4952\n",
      "Epoch 9/60\n",
      "998/998 [==============================] - ETA: 0s - loss: 1.3404 - accuracy: 0.5115\n",
      "Epoch 9: val_accuracy improved from 0.49521 to 0.49965, saving model to /kaggle/working/model1_checkpoint.h5\n",
      "998/998 [==============================] - 158s 158ms/step - loss: 1.3404 - accuracy: 0.5115 - val_loss: 1.3966 - val_accuracy: 0.4996\n",
      "Epoch 10/60\n",
      "998/998 [==============================] - ETA: 0s - loss: 1.3100 - accuracy: 0.5219\n",
      "Epoch 10: val_accuracy did not improve from 0.49965\n",
      "998/998 [==============================] - 158s 158ms/step - loss: 1.3100 - accuracy: 0.5219 - val_loss: 1.6244 - val_accuracy: 0.4858\n",
      "Epoch 11/60\n",
      "998/998 [==============================] - ETA: 0s - loss: 1.2689 - accuracy: 0.5398\n",
      "Epoch 11: val_accuracy improved from 0.49965 to 0.50479, saving model to /kaggle/working/model1_checkpoint.h5\n",
      "998/998 [==============================] - 158s 158ms/step - loss: 1.2689 - accuracy: 0.5398 - val_loss: 1.3956 - val_accuracy: 0.5048\n",
      "Epoch 12/60\n",
      "998/998 [==============================] - ETA: 0s - loss: 1.2467 - accuracy: 0.5528\n",
      "Epoch 12: val_accuracy did not improve from 0.50479\n",
      "998/998 [==============================] - 158s 158ms/step - loss: 1.2467 - accuracy: 0.5528 - val_loss: 1.4212 - val_accuracy: 0.4998\n",
      "Epoch 13/60\n",
      "998/998 [==============================] - ETA: 0s - loss: 1.2052 - accuracy: 0.5692\n",
      "Epoch 13: val_accuracy did not improve from 0.50479\n",
      "998/998 [==============================] - 158s 158ms/step - loss: 1.2052 - accuracy: 0.5692 - val_loss: 1.7131 - val_accuracy: 0.5004\n",
      "Epoch 14/60\n",
      "998/998 [==============================] - ETA: 0s - loss: 1.1712 - accuracy: 0.5759\n",
      "Epoch 14: val_accuracy did not improve from 0.50479\n",
      "998/998 [==============================] - 158s 158ms/step - loss: 1.1712 - accuracy: 0.5759 - val_loss: 1.6758 - val_accuracy: 0.4972\n",
      "Epoch 15/60\n",
      "998/998 [==============================] - ETA: 0s - loss: 1.1353 - accuracy: 0.5928\n",
      "Epoch 15: val_accuracy did not improve from 0.50479\n",
      "998/998 [==============================] - 157s 157ms/step - loss: 1.1353 - accuracy: 0.5928 - val_loss: 1.3713 - val_accuracy: 0.4947\n",
      "Epoch 16/60\n",
      "998/998 [==============================] - ETA: 0s - loss: 1.1010 - accuracy: 0.6063\n",
      "Epoch 16: val_accuracy improved from 0.50479 to 0.51952, saving model to /kaggle/working/model1_checkpoint.h5\n",
      "998/998 [==============================] - 159s 159ms/step - loss: 1.1010 - accuracy: 0.6063 - val_loss: 1.3759 - val_accuracy: 0.5195\n",
      "Epoch 17/60\n",
      "998/998 [==============================] - ETA: 0s - loss: 1.0755 - accuracy: 0.6136\n",
      "Epoch 17: val_accuracy improved from 0.51952 to 0.52946, saving model to /kaggle/working/model1_checkpoint.h5\n",
      "998/998 [==============================] - 158s 158ms/step - loss: 1.0755 - accuracy: 0.6136 - val_loss: 1.3741 - val_accuracy: 0.5295\n",
      "Epoch 18/60\n",
      "998/998 [==============================] - ETA: 0s - loss: 1.0245 - accuracy: 0.6360\n",
      "Epoch 18: val_accuracy did not improve from 0.52946\n",
      "998/998 [==============================] - 158s 158ms/step - loss: 1.0245 - accuracy: 0.6360 - val_loss: 1.4874 - val_accuracy: 0.5137\n",
      "Epoch 19/60\n",
      "998/998 [==============================] - ETA: 0s - loss: 0.9986 - accuracy: 0.6444\n",
      "Epoch 19: val_accuracy did not improve from 0.52946\n",
      "998/998 [==============================] - 158s 158ms/step - loss: 0.9986 - accuracy: 0.6444 - val_loss: 1.5966 - val_accuracy: 0.5048\n",
      "Epoch 20/60\n",
      "998/998 [==============================] - ETA: 0s - loss: 0.9560 - accuracy: 0.6622\n",
      "Epoch 20: val_accuracy did not improve from 0.52946\n",
      "998/998 [==============================] - 158s 159ms/step - loss: 0.9560 - accuracy: 0.6622 - val_loss: 1.4045 - val_accuracy: 0.5078\n",
      "Epoch 21/60\n",
      "998/998 [==============================] - ETA: 0s - loss: 0.9190 - accuracy: 0.6743\n",
      "Epoch 21: val_accuracy did not improve from 0.52946\n",
      "998/998 [==============================] - 158s 158ms/step - loss: 0.9190 - accuracy: 0.6743 - val_loss: 1.3743 - val_accuracy: 0.5208\n",
      "Epoch 22/60\n",
      "998/998 [==============================] - ETA: 0s - loss: 0.8854 - accuracy: 0.6902\n",
      "Epoch 22: val_accuracy did not improve from 0.52946\n",
      "998/998 [==============================] - 160s 160ms/step - loss: 0.8854 - accuracy: 0.6902 - val_loss: 1.5567 - val_accuracy: 0.5172\n",
      "Epoch 23/60\n",
      "998/998 [==============================] - ETA: 0s - loss: 0.8524 - accuracy: 0.7001\n",
      "Epoch 23: val_accuracy did not improve from 0.52946\n",
      "998/998 [==============================] - 157s 158ms/step - loss: 0.8524 - accuracy: 0.7001 - val_loss: 1.4067 - val_accuracy: 0.5004\n",
      "Epoch 24/60\n",
      "998/998 [==============================] - ETA: 0s - loss: 0.8163 - accuracy: 0.7143\n",
      "Epoch 24: val_accuracy did not improve from 0.52946\n",
      "998/998 [==============================] - 158s 159ms/step - loss: 0.8163 - accuracy: 0.7143 - val_loss: 1.3765 - val_accuracy: 0.4854\n",
      "Epoch 25/60\n",
      "998/998 [==============================] - ETA: 0s - loss: 0.7854 - accuracy: 0.7261\n",
      "Epoch 25: val_accuracy did not improve from 0.52946\n",
      "998/998 [==============================] - 158s 159ms/step - loss: 0.7854 - accuracy: 0.7261 - val_loss: 1.7984 - val_accuracy: 0.5170\n",
      "Epoch 26/60\n",
      "998/998 [==============================] - ETA: 0s - loss: 0.7684 - accuracy: 0.7327\n",
      "Epoch 26: val_accuracy did not improve from 0.52946\n",
      "998/998 [==============================] - 158s 159ms/step - loss: 0.7684 - accuracy: 0.7327 - val_loss: 1.4727 - val_accuracy: 0.4970\n",
      "Epoch 27/60\n",
      "998/998 [==============================] - ETA: 0s - loss: 0.7434 - accuracy: 0.7428\n",
      "Epoch 27: val_accuracy did not improve from 0.52946\n",
      "998/998 [==============================] - 157s 158ms/step - loss: 0.7434 - accuracy: 0.7428 - val_loss: 1.4010 - val_accuracy: 0.4737\n",
      "Epoch 28/60\n",
      "998/998 [==============================] - ETA: 0s - loss: 0.6944 - accuracy: 0.7583\n",
      "Epoch 28: val_accuracy did not improve from 0.52946\n",
      "998/998 [==============================] - 158s 158ms/step - loss: 0.6944 - accuracy: 0.7583 - val_loss: 1.6488 - val_accuracy: 0.5146\n",
      "Epoch 29/60\n",
      "998/998 [==============================] - ETA: 0s - loss: 0.6742 - accuracy: 0.7675\n",
      "Epoch 29: val_accuracy did not improve from 0.52946\n",
      "998/998 [==============================] - 157s 157ms/step - loss: 0.6742 - accuracy: 0.7675 - val_loss: 2.8839 - val_accuracy: 0.5193\n",
      "Epoch 30/60\n",
      "998/998 [==============================] - ETA: 0s - loss: 0.6611 - accuracy: 0.7744\n",
      "Epoch 30: val_accuracy did not improve from 0.52946\n",
      "998/998 [==============================] - 158s 158ms/step - loss: 0.6611 - accuracy: 0.7744 - val_loss: 1.4078 - val_accuracy: 0.4846\n",
      "Epoch 31/60\n",
      "998/998 [==============================] - ETA: 0s - loss: 0.6338 - accuracy: 0.7830\n",
      "Epoch 31: val_accuracy did not improve from 0.52946\n",
      "998/998 [==============================] - 157s 158ms/step - loss: 0.6338 - accuracy: 0.7830 - val_loss: 1.4888 - val_accuracy: 0.4258\n",
      "Epoch 32/60\n",
      "998/998 [==============================] - ETA: 0s - loss: 0.6094 - accuracy: 0.7953\n",
      "Epoch 32: val_accuracy did not improve from 0.52946\n",
      "998/998 [==============================] - 158s 158ms/step - loss: 0.6094 - accuracy: 0.7953 - val_loss: 1.4221 - val_accuracy: 0.4815\n",
      "Epoch 33/60\n",
      "998/998 [==============================] - ETA: 0s - loss: 0.5933 - accuracy: 0.7984\n",
      "Epoch 33: val_accuracy did not improve from 0.52946\n",
      "998/998 [==============================] - 158s 158ms/step - loss: 0.5933 - accuracy: 0.7984 - val_loss: 1.4626 - val_accuracy: 0.4789\n",
      "Epoch 34/60\n",
      "998/998 [==============================] - ETA: 0s - loss: 0.5746 - accuracy: 0.8058\n",
      "Epoch 34: val_accuracy did not improve from 0.52946\n",
      "998/998 [==============================] - 158s 158ms/step - loss: 0.5746 - accuracy: 0.8058 - val_loss: 1.4915 - val_accuracy: 0.4540\n",
      "Epoch 35/60\n",
      "998/998 [==============================] - ETA: 0s - loss: 0.5590 - accuracy: 0.8110\n",
      "Epoch 35: val_accuracy did not improve from 0.52946\n",
      "998/998 [==============================] - 158s 158ms/step - loss: 0.5590 - accuracy: 0.8110 - val_loss: 1.6002 - val_accuracy: 0.5119\n",
      "Epoch 36/60\n",
      "998/998 [==============================] - ETA: 0s - loss: 0.5276 - accuracy: 0.8233\n",
      "Epoch 36: val_accuracy did not improve from 0.52946\n",
      "998/998 [==============================] - 158s 158ms/step - loss: 0.5276 - accuracy: 0.8233 - val_loss: 1.4538 - val_accuracy: 0.4785\n",
      "Epoch 37/60\n",
      "998/998 [==============================] - ETA: 0s - loss: 0.5183 - accuracy: 0.8272\n",
      "Epoch 37: val_accuracy did not improve from 0.52946\n",
      "998/998 [==============================] - 158s 159ms/step - loss: 0.5183 - accuracy: 0.8272 - val_loss: 1.4877 - val_accuracy: 0.4665\n",
      "Epoch 38/60\n",
      "998/998 [==============================] - ETA: 0s - loss: 0.5137 - accuracy: 0.8311\n",
      "Epoch 38: val_accuracy did not improve from 0.52946\n",
      "998/998 [==============================] - 159s 159ms/step - loss: 0.5137 - accuracy: 0.8311 - val_loss: 1.8756 - val_accuracy: 0.5130\n",
      "Epoch 39/60\n",
      "998/998 [==============================] - ETA: 0s - loss: 0.4950 - accuracy: 0.8377\n",
      "Epoch 39: val_accuracy did not improve from 0.52946\n",
      "998/998 [==============================] - 158s 158ms/step - loss: 0.4950 - accuracy: 0.8377 - val_loss: 2.3140 - val_accuracy: 0.5192\n",
      "Epoch 40/60\n",
      "998/998 [==============================] - ETA: 0s - loss: 0.4977 - accuracy: 0.8378\n",
      "Epoch 40: val_accuracy did not improve from 0.52946\n",
      "998/998 [==============================] - 158s 159ms/step - loss: 0.4977 - accuracy: 0.8378 - val_loss: 1.5556 - val_accuracy: 0.4870\n",
      "Epoch 41/60\n",
      "998/998 [==============================] - ETA: 0s - loss: 0.4782 - accuracy: 0.8435\n",
      "Epoch 41: val_accuracy did not improve from 0.52946\n",
      "998/998 [==============================] - 159s 159ms/step - loss: 0.4782 - accuracy: 0.8435 - val_loss: 1.6604 - val_accuracy: 0.5007\n",
      "Epoch 42/60\n",
      "998/998 [==============================] - ETA: 0s - loss: 0.4596 - accuracy: 0.8505\n",
      "Epoch 42: val_accuracy did not improve from 0.52946\n",
      "998/998 [==============================] - 159s 159ms/step - loss: 0.4596 - accuracy: 0.8505 - val_loss: 1.5421 - val_accuracy: 0.4769\n",
      "Epoch 43/60\n",
      "998/998 [==============================] - ETA: 0s - loss: 0.4595 - accuracy: 0.8533\n",
      "Epoch 43: val_accuracy did not improve from 0.52946\n",
      "998/998 [==============================] - 159s 159ms/step - loss: 0.4595 - accuracy: 0.8533 - val_loss: 1.5416 - val_accuracy: 0.4677\n",
      "Epoch 44/60\n",
      "998/998 [==============================] - ETA: 0s - loss: 0.4532 - accuracy: 0.8541\n",
      "Epoch 44: val_accuracy did not improve from 0.52946\n",
      "998/998 [==============================] - 158s 159ms/step - loss: 0.4532 - accuracy: 0.8541 - val_loss: 1.6262 - val_accuracy: 0.3949\n",
      "Epoch 45/60\n",
      "998/998 [==============================] - ETA: 0s - loss: 0.4285 - accuracy: 0.8614\n",
      "Epoch 45: val_accuracy did not improve from 0.52946\n",
      "998/998 [==============================] - 158s 158ms/step - loss: 0.4285 - accuracy: 0.8614 - val_loss: 1.5994 - val_accuracy: 0.4814\n",
      "Epoch 46/60\n",
      "998/998 [==============================] - ETA: 0s - loss: 0.4366 - accuracy: 0.8619\n",
      "Epoch 46: val_accuracy did not improve from 0.52946\n",
      "998/998 [==============================] - 158s 159ms/step - loss: 0.4366 - accuracy: 0.8619 - val_loss: 1.9162 - val_accuracy: 0.5114\n",
      "Epoch 47/60\n",
      "998/998 [==============================] - ETA: 0s - loss: 0.4155 - accuracy: 0.8673\n",
      "Epoch 47: val_accuracy did not improve from 0.52946\n",
      "998/998 [==============================] - 158s 158ms/step - loss: 0.4155 - accuracy: 0.8673 - val_loss: 1.6409 - val_accuracy: 0.3917\n",
      "Epoch 48/60\n",
      "998/998 [==============================] - ETA: 0s - loss: 0.4057 - accuracy: 0.8731\n",
      "Epoch 48: val_accuracy did not improve from 0.52946\n",
      "998/998 [==============================] - 158s 158ms/step - loss: 0.4057 - accuracy: 0.8731 - val_loss: 1.5892 - val_accuracy: 0.4200\n",
      "Epoch 49/60\n",
      "998/998 [==============================] - ETA: 0s - loss: 0.4074 - accuracy: 0.8688\n",
      "Epoch 49: val_accuracy did not improve from 0.52946\n",
      "998/998 [==============================] - 160s 160ms/step - loss: 0.4074 - accuracy: 0.8688 - val_loss: 1.5757 - val_accuracy: 0.4258\n",
      "Epoch 50/60\n",
      "851/998 [========================>.....] - ETA: 21s - loss: 0.3984 - accuracy: 0.8715"
     ]
    }
   ],
   "source": [
    "from tensorflow.keras.models import Sequential\n",
    "from tensorflow.keras.layers import Conv2D, MaxPooling2D, Flatten, Dense, Dropout\n",
    "from tensorflow.keras.callbacks import ModelCheckpoint\n",
    "\n",
    "num_classes = 8\n",
    "\n",
    "# Build the model\n",
    "model = Sequential()\n",
    "\n",
    "model.add(Conv2D(64, (3, 3), padding='same', input_shape=(224, 224, 3)))\n",
    "model.add(BatchNormalization())\n",
    "model.add(Activation('relu'))\n",
    "model.add(MaxPooling2D(pool_size=(2, 2)))\n",
    "model.add(Dropout(0.25))\n",
    "\n",
    "model.add(Conv2D(128, (3, 3), padding='same'))\n",
    "model.add(BatchNormalization())\n",
    "model.add(Activation('relu'))\n",
    "model.add(MaxPooling2D(pool_size=(2, 2)))\n",
    "model.add(Dropout(0.25))\n",
    "\n",
    "model.add(Conv2D(256, (3, 3), padding='same'))\n",
    "model.add(BatchNormalization())\n",
    "model.add(Activation('relu'))\n",
    "model.add(MaxPooling2D(pool_size=(2, 2)))\n",
    "model.add(Dropout(0.25))\n",
    "\n",
    "model.add(Conv2D(512, (3, 3), padding='same'))\n",
    "model.add(BatchNormalization())\n",
    "model.add(Activation('relu'))\n",
    "model.add(MaxPooling2D(pool_size=(2, 2)))\n",
    "model.add(Dropout(0.25))\n",
    "\n",
    "model.add(Conv2D(512, (3, 3), padding='same'))\n",
    "model.add(BatchNormalization())\n",
    "model.add(Activation('relu'))\n",
    "model.add(MaxPooling2D(pool_size=(2, 2)))\n",
    "model.add(Dropout(0.25))\n",
    "\n",
    "model.add(Flatten())\n",
    "model.add(Dense(512))\n",
    "model.add(BatchNormalization())\n",
    "model.add(Activation('relu'))\n",
    "model.add(Dropout(0.5))\n",
    "\n",
    "model.add(Dense(512))\n",
    "model.add(BatchNormalization())\n",
    "model.add(Activation('relu'))\n",
    "model.add(Dropout(0.5))\n",
    "\n",
    "model.add(Dense(num_classes, activation='softmax'))\n",
    "\n",
    "# Define the optimizer and compile the model\n",
    "optimizer = RMSprop(learning_rate=0.001)\n",
    "\n",
    "model.compile(optimizer=optimizer, loss='categorical_crossentropy', metrics=['accuracy'])\n",
    "model.summary()\n",
    "\n",
    "# Define the checkpoint path to save the best model based on validation accuracy\n",
    "checkpoint_path = \"/kaggle/working/model1_checkpoint.h5\"\n",
    "\n",
    "# Define a ModelCheckpoint callback to save the best model\n",
    "checkpoint = ModelCheckpoint(checkpoint_path, monitor='val_accuracy', mode='max', save_best_only=True, verbose=1)\n",
    "\n",
    "# Train the model with the defined checkpoint callback\n",
    "history = model.fit(train_generator, validation_data=validation_generator, epochs=60, callbacks=[checkpoint])\n",
    "\n",
    "# Load the best model based on validation accuracy\n",
    "model.load_weights(checkpoint_path)\n",
    "\n",
    "# Evaluate the model on the test set\n",
    "test_loss, test_accuracy = model.evaluate(test_generator)\n",
    "print(\"Test Loss:\", test_loss)\n",
    "print(\"Test Accuracy:\", test_accuracy)"
   ]
  },
  {
   "cell_type": "code",
   "execution_count": null,
   "metadata": {},
   "outputs": [],
   "source": [
    "print(len(model.layers))"
   ]
  },
  {
   "cell_type": "code",
   "execution_count": null,
   "metadata": {},
   "outputs": [],
   "source": [
    "import matplotlib.pyplot as plt\n",
    "\n",
    "# Access the training history\n",
    "training_accuracy = history.history['accuracy']\n",
    "validation_accuracy = history.history['val_accuracy']\n",
    "training_loss = history.history['loss']\n",
    "validation_loss = history.history['val_loss']\n",
    "\n",
    "# Create subplots for accuracy and loss\n",
    "plt.figure(figsize=(12, 6))\n",
    "\n",
    "# Plot training and validation accuracy\n",
    "plt.subplot(1, 2, 1)\n",
    "plt.plot(training_accuracy, label='Training Accuracy')\n",
    "plt.plot(validation_accuracy, label='Validation Accuracy')\n",
    "plt.xlabel('Epoch')\n",
    "plt.ylabel('Accuracy')\n",
    "plt.legend()\n",
    "plt.title('Training and Validation Accuracy')\n",
    "\n",
    "# Plot training and validation loss\n",
    "plt.subplot(1, 2, 2)\n",
    "plt.plot(training_loss, label='Training Loss')\n",
    "plt.plot(validation_loss, label='Validation Loss')\n",
    "plt.xlabel('Epoch')\n",
    "plt.ylabel('Loss')\n",
    "plt.legend()\n",
    "plt.title('Training and Validation Loss')\n",
    "\n",
    "plt.tight_layout()\n",
    "plt.show()\n"
   ]
  },
  {
   "cell_type": "code",
   "execution_count": null,
   "metadata": {},
   "outputs": [],
   "source": [
    "from sklearn.metrics import confusion_matrix\n",
    "import numpy as np\n",
    "\n",
    "# Make predictions on the test set\n",
    "predictions = model.predict(test_generator)\n",
    "predicted_classes = np.argmax(predictions, axis=1)\n",
    "\n",
    "# Get the true labels of the test set\n",
    "true_labels = test_generator.classes\n",
    "\n",
    "# Calculate the confusion matrix\n",
    "cm = confusion_matrix(true_labels, predicted_classes)\n",
    "\n",
    "# Print the confusion matrix\n",
    "print(\"Confusion Matrix:\")\n",
    "print(cm)"
   ]
  },
  {
   "cell_type": "code",
   "execution_count": null,
   "metadata": {},
   "outputs": [],
   "source": [
    "import numpy as np\n",
    "from sklearn.metrics import classification_report\n",
    "\n",
    "# Get the predicted probabilities for the test set\n",
    "y_pred_probabilities = model.predict(test_generator)\n",
    "\n",
    "# Convert the predicted probabilities to class labels\n",
    "y_pred_labels = np.argmax(y_pred_probabilities, axis=1)\n",
    "\n",
    "# Get the true class labels for the test set\n",
    "y_true_labels = test_generator.classes\n",
    "\n",
    "# Get the class names\n",
    "class_names = list(test_generator.class_indices.keys())\n",
    "\n",
    "# Print the classification report\n",
    "print(classification_report(y_true_labels, y_pred_labels, target_names=class_names))\n"
   ]
  },
  {
   "cell_type": "code",
   "execution_count": null,
   "metadata": {},
   "outputs": [],
   "source": []
  },
  {
   "cell_type": "markdown",
   "metadata": {},
   "source": [
    "# Vit b16"
   ]
  },
  {
   "cell_type": "code",
   "execution_count": 14,
   "metadata": {
    "execution": {
     "iopub.execute_input": "2023-11-02T03:50:13.176922Z",
     "iopub.status.busy": "2023-11-02T03:50:13.176143Z",
     "iopub.status.idle": "2023-11-02T03:50:25.245611Z",
     "shell.execute_reply": "2023-11-02T03:50:25.244221Z",
     "shell.execute_reply.started": "2023-11-02T03:50:13.176889Z"
    }
   },
   "outputs": [
    {
     "name": "stdout",
     "output_type": "stream",
     "text": [
      "Collecting vit_keras\n",
      "  Downloading vit_keras-0.1.2-py3-none-any.whl (24 kB)\n",
      "Requirement already satisfied: scipy in /opt/conda/lib/python3.10/site-packages (from vit_keras) (1.11.2)\n",
      "Collecting validators (from vit_keras)\n",
      "  Downloading validators-0.22.0-py3-none-any.whl (26 kB)\n",
      "Requirement already satisfied: numpy<1.28.0,>=1.21.6 in /opt/conda/lib/python3.10/site-packages (from scipy->vit_keras) (1.23.5)\n",
      "Installing collected packages: validators, vit_keras\n",
      "Successfully installed validators-0.22.0 vit_keras-0.1.2\n"
     ]
    }
   ],
   "source": [
    "!pip install vit_keras"
   ]
  },
  {
   "cell_type": "code",
   "execution_count": 15,
   "metadata": {
    "execution": {
     "iopub.execute_input": "2023-11-02T03:50:25.249553Z",
     "iopub.status.busy": "2023-11-02T03:50:25.249208Z",
     "iopub.status.idle": "2023-11-02T03:50:25.560332Z",
     "shell.execute_reply": "2023-11-02T03:50:25.559288Z",
     "shell.execute_reply.started": "2023-11-02T03:50:25.249522Z"
    }
   },
   "outputs": [
    {
     "name": "stderr",
     "output_type": "stream",
     "text": [
      "/opt/conda/lib/python3.10/site-packages/tensorflow_addons/utils/tfa_eol_msg.py:23: UserWarning: \n",
      "\n",
      "TensorFlow Addons (TFA) has ended development and introduction of new features.\n",
      "TFA has entered a minimal maintenance and release mode until a planned end of life in May 2024.\n",
      "Please modify downstream libraries to take dependencies from other repositories in our TensorFlow community (e.g. Keras, Keras-CV, and Keras-NLP). \n",
      "\n",
      "For more information see: https://github.com/tensorflow/addons/issues/2807 \n",
      "\n",
      "  warnings.warn(\n"
     ]
    }
   ],
   "source": [
    "from vit_keras import vit"
   ]
  },
  {
   "cell_type": "code",
   "execution_count": 16,
   "metadata": {
    "execution": {
     "iopub.execute_input": "2023-11-02T03:50:25.562396Z",
     "iopub.status.busy": "2023-11-02T03:50:25.562047Z",
     "iopub.status.idle": "2023-11-02T03:50:25.567509Z",
     "shell.execute_reply": "2023-11-02T03:50:25.566526Z",
     "shell.execute_reply.started": "2023-11-02T03:50:25.562365Z"
    }
   },
   "outputs": [],
   "source": [
    "import tensorflow as tf\n",
    "import tensorflow_addons as tfa\n",
    "from vit_keras import vit"
   ]
  },
  {
   "cell_type": "code",
   "execution_count": 17,
   "metadata": {
    "execution": {
     "iopub.execute_input": "2023-11-02T03:50:26.773694Z",
     "iopub.status.busy": "2023-11-02T03:50:26.773295Z",
     "iopub.status.idle": "2023-11-02T06:43:47.215610Z",
     "shell.execute_reply": "2023-11-02T06:43:47.214600Z",
     "shell.execute_reply.started": "2023-11-02T03:50:26.773661Z"
    }
   },
   "outputs": [
    {
     "name": "stdout",
     "output_type": "stream",
     "text": [
      "Downloading data from https://github.com/faustomorales/vit-keras/releases/download/dl/ViT-B_16_imagenet21k+imagenet2012.npz\n",
      "347502902/347502902 [==============================] - 1s 0us/step\n"
     ]
    },
    {
     "name": "stderr",
     "output_type": "stream",
     "text": [
      "/opt/conda/lib/python3.10/site-packages/vit_keras/utils.py:81: UserWarning: Resizing position embeddings from 24, 24 to 14, 14\n",
      "  warnings.warn(\n"
     ]
    },
    {
     "name": "stdout",
     "output_type": "stream",
     "text": [
      "Epoch 1/30\n",
      "897/897 [==============================] - ETA: 0s - loss: 1.7899 - accuracy: 0.3870\n",
      "Epoch 1: val_accuracy improved from -inf to 0.50949, saving model to ./model\n",
      "897/897 [==============================] - 793s 853ms/step - loss: 1.7899 - accuracy: 0.3870 - val_loss: 1.5986 - val_accuracy: 0.5095 - lr: 1.0000e-04\n",
      "Epoch 2/30\n",
      "897/897 [==============================] - ETA: 0s - loss: 1.5393 - accuracy: 0.5438\n",
      "Epoch 2: val_accuracy improved from 0.50949 to 0.55617, saving model to ./model\n",
      "897/897 [==============================] - 760s 847ms/step - loss: 1.5393 - accuracy: 0.5438 - val_loss: 1.5154 - val_accuracy: 0.5562 - lr: 1.0000e-04\n",
      "Epoch 3/30\n",
      "897/897 [==============================] - ETA: 0s - loss: 1.4285 - accuracy: 0.6113\n",
      "Epoch 3: val_accuracy improved from 0.55617 to 0.55973, saving model to ./model\n",
      "897/897 [==============================] - 760s 847ms/step - loss: 1.4285 - accuracy: 0.6113 - val_loss: 1.5124 - val_accuracy: 0.5597 - lr: 1.0000e-04\n",
      "Epoch 4/30\n",
      "897/897 [==============================] - ETA: 0s - loss: 1.3468 - accuracy: 0.6600\n",
      "Epoch 4: val_accuracy improved from 0.55973 to 0.58584, saving model to ./model\n",
      "897/897 [==============================] - 763s 851ms/step - loss: 1.3468 - accuracy: 0.6600 - val_loss: 1.4744 - val_accuracy: 0.5858 - lr: 1.0000e-04\n",
      "Epoch 5/30\n",
      "897/897 [==============================] - ETA: 0s - loss: 1.2659 - accuracy: 0.7115\n",
      "Epoch 5: val_accuracy improved from 0.58584 to 0.58663, saving model to ./model\n",
      "897/897 [==============================] - 762s 849ms/step - loss: 1.2659 - accuracy: 0.7115 - val_loss: 1.4725 - val_accuracy: 0.5866 - lr: 1.0000e-04\n",
      "Epoch 6/30\n",
      "897/897 [==============================] - ETA: 0s - loss: 1.1904 - accuracy: 0.7572\n",
      "Epoch 6: val_accuracy improved from 0.58663 to 0.58762, saving model to ./model\n",
      "897/897 [==============================] - 760s 847ms/step - loss: 1.1904 - accuracy: 0.7572 - val_loss: 1.5256 - val_accuracy: 0.5876 - lr: 1.0000e-04\n",
      "Epoch 7/30\n",
      "897/897 [==============================] - ETA: 0s - loss: 1.1088 - accuracy: 0.8093\n",
      "Epoch 7: val_accuracy did not improve from 0.58762\n",
      "897/897 [==============================] - 715s 797ms/step - loss: 1.1088 - accuracy: 0.8093 - val_loss: 1.5810 - val_accuracy: 0.5801 - lr: 1.0000e-04\n",
      "Epoch 8/30\n",
      "897/897 [==============================] - ETA: 0s - loss: 1.0413 - accuracy: 0.8522\n",
      "Epoch 8: ReduceLROnPlateau reducing learning rate to 1.9999999494757503e-05.\n",
      "\n",
      "Epoch 8: val_accuracy did not improve from 0.58762\n",
      "897/897 [==============================] - 715s 797ms/step - loss: 1.0413 - accuracy: 0.8522 - val_loss: 1.6103 - val_accuracy: 0.5763 - lr: 1.0000e-04\n",
      "Epoch 9/30\n",
      "897/897 [==============================] - ETA: 0s - loss: 0.9102 - accuracy: 0.9313\n",
      "Epoch 9: val_accuracy improved from 0.58762 to 0.60206, saving model to ./model\n",
      "897/897 [==============================] - 760s 848ms/step - loss: 0.9102 - accuracy: 0.9313 - val_loss: 1.5584 - val_accuracy: 0.6021 - lr: 2.0000e-05\n",
      "Epoch 10/30\n",
      "897/897 [==============================] - ETA: 0s - loss: 0.8704 - accuracy: 0.9546\n",
      "Epoch 10: val_accuracy did not improve from 0.60206\n",
      "897/897 [==============================] - 715s 798ms/step - loss: 0.8704 - accuracy: 0.9546 - val_loss: 1.5946 - val_accuracy: 0.6005 - lr: 2.0000e-05\n",
      "Epoch 11/30\n",
      "897/897 [==============================] - ETA: 0s - loss: 0.8525 - accuracy: 0.9643\n",
      "Epoch 11: ReduceLROnPlateau reducing learning rate to 3.999999898951501e-06.\n",
      "\n",
      "Epoch 11: val_accuracy did not improve from 0.60206\n",
      "897/897 [==============================] - 715s 797ms/step - loss: 0.8525 - accuracy: 0.9643 - val_loss: 1.6386 - val_accuracy: 0.5938 - lr: 2.0000e-05\n",
      "Epoch 12/30\n",
      "897/897 [==============================] - ETA: 0s - loss: 0.8309 - accuracy: 0.9765\n",
      "Epoch 12: val_accuracy did not improve from 0.60206\n",
      "897/897 [==============================] - 715s 797ms/step - loss: 0.8309 - accuracy: 0.9765 - val_loss: 1.6246 - val_accuracy: 0.5985 - lr: 4.0000e-06\n",
      "Epoch 13/30\n",
      "897/897 [==============================] - ETA: 0s - loss: 0.8264 - accuracy: 0.9781\n",
      "Epoch 13: ReduceLROnPlateau reducing learning rate to 1e-06.\n",
      "\n",
      "Epoch 13: val_accuracy did not improve from 0.60206\n",
      "897/897 [==============================] - 715s 797ms/step - loss: 0.8264 - accuracy: 0.9781 - val_loss: 1.6400 - val_accuracy: 0.5975 - lr: 4.0000e-06\n",
      "Epoch 14/30\n",
      "897/897 [==============================] - ETA: 0s - loss: 0.8226 - accuracy: 0.9809Restoring model weights from the end of the best epoch: 9.\n",
      "\n",
      "Epoch 14: val_accuracy did not improve from 0.60206\n",
      "897/897 [==============================] - 716s 798ms/step - loss: 0.8226 - accuracy: 0.9809 - val_loss: 1.6359 - val_accuracy: 0.5967 - lr: 1.0000e-06\n",
      "Epoch 14: early stopping\n",
      "110/110 [==============================] - 29s 260ms/step - loss: 1.5729 - accuracy: 0.6020\n",
      "Test Loss: 1.5728833675384521\n",
      "Test Accuracy: 0.6019999980926514\n"
     ]
    }
   ],
   "source": [
    "from vit_keras import vit\n",
    "from tensorflow.keras.callbacks import ModelCheckpoint\n",
    "# Define the image size\n",
    "image_size = 224\n",
    "\n",
    "# Define the number of classes\n",
    "num_classes = 7\n",
    "\n",
    "# Build the Vision Transformer model\n",
    "vit_model = vit.vit_b16(\n",
    "    image_size=image_size,\n",
    "    activation='sigmoid',\n",
    "    pretrained=True,\n",
    "    pretrained_top=False,\n",
    "    include_top=False,\n",
    "    classes=len(class_names)  # Use len(class_names) for the number of classes\n",
    ")\n",
    "\n",
    "model = tf.keras.Sequential([\n",
    "    tf.keras.layers.Input(shape=(image_size, image_size, 3)),\n",
    "    vit_model,\n",
    "    tf.keras.layers.Flatten(),\n",
    "    tf.keras.layers.BatchNormalization(),\n",
    "    tf.keras.layers.Dense(11, activation=tfa.activations.gelu),\n",
    "    tf.keras.layers.BatchNormalization(),\n",
    "    tf.keras.layers.Dense(len(class_names), activation='softmax')\n",
    "],\n",
    "    name='vision_transformer'\n",
    ")\n",
    "\n",
    "# Compile the model\n",
    "learning_rate = 1e-4\n",
    "optimizer = tfa.optimizers.RectifiedAdam(learning_rate=learning_rate)\n",
    "\n",
    "model.compile(\n",
    "    optimizer=optimizer,\n",
    "    loss=tf.keras.losses.CategoricalCrossentropy(label_smoothing=0.2),\n",
    "    metrics=['accuracy']\n",
    ")\n",
    "\n",
    "\n",
    "# Define callbacks\n",
    "reduce_lr = tf.keras.callbacks.ReduceLROnPlateau(\n",
    "    monitor='val_accuracy',\n",
    "    factor=0.2,\n",
    "    patience=2,\n",
    "    verbose=1,\n",
    "    min_delta=1e-4,\n",
    "    min_lr=1e-6,\n",
    "    mode='max'\n",
    ")\n",
    "\n",
    "earlystopping = tf.keras.callbacks.EarlyStopping(\n",
    "    monitor='val_accuracy',\n",
    "    min_delta=1e-4,\n",
    "    patience=5,\n",
    "    mode='max',\n",
    "    restore_best_weights=True,\n",
    "    verbose=1\n",
    ")\n",
    "\n",
    "checkpointer = tf.keras.callbacks.ModelCheckpoint(\n",
    "    filepath='./model',\n",
    "    monitor='val_accuracy',\n",
    "    verbose=1,\n",
    "    save_best_only=True,\n",
    "    mode='max'\n",
    ")\n",
    "\n",
    "callbacks = [earlystopping, reduce_lr, checkpointer]\n",
    "\n",
    "# Train the model\n",
    "step_size_train = train_generator.n // train_generator.batch_size\n",
    "step_size_valid = validation_generator.n // validation_generator.batch_size\n",
    "\n",
    "# Define a callback to save the best model based on validation accuracy\n",
    "vit_checkpoint = ModelCheckpoint(\"best_model_vit.h5\", monitor=\"val_accuracy\", mode=\"max\", save_best_only=True)\n",
    "\n",
    "\n",
    "history = model.fit(\n",
    "    train_generator,\n",
    "    steps_per_epoch=step_size_train,\n",
    "    validation_data=validation_generator,\n",
    "    validation_steps=step_size_valid,\n",
    "    epochs=30,\n",
    "    callbacks=callbacks\n",
    ")\n",
    "\n",
    "# Load the best saved ViT model based on validation accuracy\n",
    "#model.load_weights(\"best_model_vit.h5\")\n",
    "\n",
    "# Evaluate the model on the test set\n",
    "test_loss, test_accuracy = model.evaluate(test_generator)\n",
    "print(\"Test Loss:\", test_loss)\n",
    "print(\"Test Accuracy:\", test_accuracy)"
   ]
  },
  {
   "cell_type": "code",
   "execution_count": 18,
   "metadata": {
    "execution": {
     "iopub.execute_input": "2023-11-02T06:50:02.279158Z",
     "iopub.status.busy": "2023-11-02T06:50:02.278714Z",
     "iopub.status.idle": "2023-11-02T06:50:32.801275Z",
     "shell.execute_reply": "2023-11-02T06:50:32.800240Z",
     "shell.execute_reply.started": "2023-11-02T06:50:02.279127Z"
    }
   },
   "outputs": [
    {
     "name": "stdout",
     "output_type": "stream",
     "text": [
      "110/110 [==============================] - 30s 249ms/step\n",
      "Confusion Matrix:\n",
      "[[265  28  55  47  24  14  67]\n",
      " [ 29 428   5  22   2  10   4]\n",
      " [ 61  11 306  16  25  30  51]\n",
      " [ 52  36  23 275  75  15  24]\n",
      " [ 27   9  56  66 290  25  27]\n",
      " [ 39  26  50  19  23 254  89]\n",
      " [ 59  10  46  23  24  49 289]]\n"
     ]
    }
   ],
   "source": [
    "from sklearn.metrics import confusion_matrix\n",
    "import numpy as np\n",
    "\n",
    "# Make predictions on the test set\n",
    "predictions = model.predict(test_generator)\n",
    "predicted_classes = np.argmax(predictions, axis=1)\n",
    "\n",
    "# Get the true labels of the test set\n",
    "true_labels = test_generator.classes\n",
    "\n",
    "# Calculate the confusion matrix\n",
    "cm = confusion_matrix(true_labels, predicted_classes)\n",
    "\n",
    "# Print the confusion matrix\n",
    "print(\"Confusion Matrix:\")\n",
    "print(cm)"
   ]
  },
  {
   "cell_type": "code",
   "execution_count": 19,
   "metadata": {
    "execution": {
     "iopub.execute_input": "2023-11-02T06:50:36.193880Z",
     "iopub.status.busy": "2023-11-02T06:50:36.193508Z",
     "iopub.status.idle": "2023-11-02T06:51:03.761218Z",
     "shell.execute_reply": "2023-11-02T06:51:03.760146Z",
     "shell.execute_reply.started": "2023-11-02T06:50:36.193852Z"
    }
   },
   "outputs": [
    {
     "name": "stdout",
     "output_type": "stream",
     "text": [
      "110/110 [==============================] - 27s 248ms/step\n",
      "              precision    recall  f1-score   support\n",
      "\n",
      "     neutral       0.50      0.53      0.51       500\n",
      "       happy       0.78      0.86      0.82       500\n",
      "         sad       0.57      0.61      0.59       500\n",
      "    surprise       0.59      0.55      0.57       500\n",
      "        fear       0.63      0.58      0.60       500\n",
      "     disgust       0.64      0.51      0.57       500\n",
      "       anger       0.52      0.58      0.55       500\n",
      "\n",
      "    accuracy                           0.60      3500\n",
      "   macro avg       0.60      0.60      0.60      3500\n",
      "weighted avg       0.60      0.60      0.60      3500\n",
      "\n"
     ]
    }
   ],
   "source": [
    "import numpy as np\n",
    "from sklearn.metrics import classification_report\n",
    "\n",
    "# Get the predicted probabilities for the test set\n",
    "y_pred_probabilities = model.predict(test_generator)\n",
    "\n",
    "# Convert the predicted probabilities to class labels\n",
    "y_pred_labels = np.argmax(y_pred_probabilities, axis=1)\n",
    "\n",
    "# Get the true class labels for the test set\n",
    "y_true_labels = test_generator.classes\n",
    "\n",
    "# Get the class names\n",
    "class_names = list(test_generator.class_indices.keys())\n",
    "\n",
    "# Print the classification report\n",
    "print(classification_report(y_true_labels, y_pred_labels, target_names=class_names))\n"
   ]
  },
  {
   "cell_type": "code",
   "execution_count": 20,
   "metadata": {
    "execution": {
     "iopub.execute_input": "2023-11-02T06:51:07.213809Z",
     "iopub.status.busy": "2023-11-02T06:51:07.213451Z",
     "iopub.status.idle": "2023-11-02T06:51:07.904624Z",
     "shell.execute_reply": "2023-11-02T06:51:07.903631Z",
     "shell.execute_reply.started": "2023-11-02T06:51:07.213780Z"
    }
   },
   "outputs": [
    {
     "data": {
      "image/png": "[encoded data removed]",
      "text/plain": [
       "<Figure size 1200x600 with 2 Axes>"
      ]
     },
     "metadata": {},
     "output_type": "display_data"
    }
   ],
   "source": [
    "import matplotlib.pyplot as plt\n",
    "\n",
    "# Access the training history\n",
    "training_accuracy = history.history['accuracy']\n",
    "validation_accuracy = history.history['val_accuracy']\n",
    "training_loss = history.history['loss']\n",
    "validation_loss = history.history['val_loss']\n",
    "\n",
    "# Create subplots for accuracy and loss\n",
    "plt.figure(figsize=(12, 6))\n",
    "\n",
    "# Plot training and validation accuracy\n",
    "plt.subplot(1, 2, 1)\n",
    "plt.plot(training_accuracy, label='Training Accuracy')\n",
    "plt.plot(validation_accuracy, label='Validation Accuracy')\n",
    "plt.xlabel('Epoch')\n",
    "plt.ylabel('Accuracy')\n",
    "plt.legend()\n",
    "plt.title('Training and Validation Accuracy')\n",
    "\n",
    "# Plot training and validation loss\n",
    "plt.subplot(1, 2, 2)\n",
    "plt.plot(training_loss, label='Training Loss')\n",
    "plt.plot(validation_loss, label='Validation Loss')\n",
    "plt.xlabel('Epoch')\n",
    "plt.ylabel('Loss')\n",
    "plt.legend()\n",
    "plt.title('Training and Validation Loss')\n",
    "\n",
    "plt.tight_layout()\n",
    "plt.show()\n"
   ]
  },
  {
   "cell_type": "code",
   "execution_count": 21,
   "metadata": {
    "execution": {
     "iopub.execute_input": "2023-11-02T06:51:14.034176Z",
     "iopub.status.busy": "2023-11-02T06:51:14.033828Z",
     "iopub.status.idle": "2023-11-02T06:51:15.699359Z",
     "shell.execute_reply": "2023-11-02T06:51:15.698303Z",
     "shell.execute_reply.started": "2023-11-02T06:51:14.034149Z"
    }
   },
   "outputs": [],
   "source": [
    "# Save the best model as an .h5 file\n",
    "model.save(\"vitb16.h5\")  # Save the model as an .h5 file"
   ]
  },
  {
   "cell_type": "code",
   "execution_count": 22,
   "metadata": {
    "execution": {
     "iopub.execute_input": "2023-11-02T06:51:22.764558Z",
     "iopub.status.busy": "2023-11-02T06:51:22.763806Z",
     "iopub.status.idle": "2023-11-02T06:51:22.769218Z",
     "shell.execute_reply": "2023-11-02T06:51:22.768182Z",
     "shell.execute_reply.started": "2023-11-02T06:51:22.764517Z"
    }
   },
   "outputs": [
    {
     "name": "stdout",
     "output_type": "stream",
     "text": [
      "19\n"
     ]
    }
   ],
   "source": [
    "print(len(vit_model.layers))"
   ]
  }
 ],
 "metadata": {
  "kaggle": {
   "accelerator": "gpu",
   "dataSources": [
    {
     "datasetId": 3937997,
     "sourceId": 6850999,
     "sourceType": "datasetVersion"
    },
    {
     "datasetId": 3941965,
     "sourceId": 6858443,
     "sourceType": "datasetVersion"
    }
   ],
   "dockerImageVersionId": 30559,
   "isGpuEnabled": true,
   "isInternetEnabled": true,
   "language": "python",
   "sourceType": "notebook"
  },
  "kernelspec": {
   "display_name": "Python 3 (ipykernel)",
   "language": "python",
   "name": "python3"
  },
  "language_info": {
   "codemirror_mode": {
    "name": "ipython",
    "version": 3
   },
   "file_extension": ".py",
   "mimetype": "text/x-python",
   "name": "python",
   "nbconvert_exporter": "python",
   "pygments_lexer": "ipython3",
   "version": "3.7.4"
  }
 },
 "nbformat": 4,
 "nbformat_minor": 4
}
